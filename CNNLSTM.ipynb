{
  "nbformat": 4,
  "nbformat_minor": 0,
  "metadata": {
    "accelerator": "GPU",
    "colab": {
      "name": "CNNLSTM.ipynb",
      "provenance": []
    },
    "kernelspec": {
      "display_name": "Python 3",
      "language": "python",
      "name": "python3"
    },
    "language_info": {
      "codemirror_mode": {
        "name": "ipython",
        "version": 3
      },
      "file_extension": ".py",
      "mimetype": "text/x-python",
      "name": "python",
      "nbconvert_exporter": "python",
      "pygments_lexer": "ipython3",
      "version": "3.7.3"
    }
  },
  "cells": [
    {
      "cell_type": "code",
      "metadata": {
        "id": "p72HxINZnbFc",
        "colab_type": "code",
        "colab": {}
      },
      "source": [
        "IS_COLAB = True"
      ],
      "execution_count": 1,
      "outputs": []
    },
    {
      "cell_type": "code",
      "metadata": {
        "colab_type": "code",
        "id": "PsTIJjcyZ80g",
        "colab": {
          "base_uri": "https://localhost:8080/",
          "height": 68
        },
        "outputId": "24bbd327-538a-45e3-f69b-bc576a1437cc"
      },
      "source": [
        "import sys\n",
        "import os\n",
        "import gc\n",
        "import torch\n",
        "import pandas as pd\n",
        "import numpy as np\n",
        "import glob\n",
        "\n",
        "if IS_COLAB:\n",
        "    # using google colab\n",
        "    from google.colab import drive\n",
        "    drive.mount('/content/drive')\n",
        "    ROOT = os.path.join('/content', 'drive', 'My Drive', 'OpportunityUCIDataset')\n",
        "    os.chdir(ROOT)\n",
        "else:\n",
        "    # using own pc\n",
        "    ROOT = os.path.join(os.getcwd(), 'OpportunityUCIDataset')\n",
        "    os.chdir(ROOT)\n",
        "\n",
        "print(ROOT)\n",
        "\n",
        "if torch.cuda.is_available():\n",
        "    device = torch.device(\"cuda:0\")  # you can continue going on here, like cuda:1 cuda:2....etc. \n",
        "    print(\"Running on the GPU\")\n",
        "else:\n",
        "    device = torch.device(\"cpu\")\n",
        "    print(\"Running on the CPU\")"
      ],
      "execution_count": 2,
      "outputs": [
        {
          "output_type": "stream",
          "text": [
            "Mounted at /content/drive\n",
            "/content/drive/My Drive/OpportunityUCIDataset\n",
            "Running on the GPU\n"
          ],
          "name": "stdout"
        }
      ]
    },
    {
      "cell_type": "code",
      "metadata": {
        "id": "v_oOhST5RNtK",
        "colab_type": "code",
        "colab": {}
      },
      "source": [
        "from torch.utils.data import Dataset, DataLoader\n",
        "\n",
        "class OpportunityDatasetParsed(Dataset):\n",
        "    def __init__(self, filenames):\n",
        "        self.filenames = filenames\n",
        "        \n",
        "    def __len__(self):\n",
        "        return len(self.filenames)\n",
        "\n",
        "    def __getitem__(self, index):\n",
        "        filename = self.filenames[index]\n",
        "\n",
        "        df = pd.read_csv(filename, header = 0)\n",
        "\n",
        "        # first 15 columns are for data\n",
        "        data = torch.FloatTensor(\n",
        "            df.iloc[:, 0:15].values.astype('float'))\n",
        "        \n",
        "        # last 3 columns are for label\n",
        "        label = torch.FloatTensor(\n",
        "            df.iloc[99, 15:18].values.astype('float'))\n",
        "\n",
        "        return data, label"
      ],
      "execution_count": 3,
      "outputs": []
    },
    {
      "cell_type": "code",
      "metadata": {
        "colab_type": "code",
        "id": "DCiwj9_Poakn",
        "colab": {
          "base_uri": "https://localhost:8080/",
          "height": 85
        },
        "outputId": "bbf343bc-b391-4944-cc05-07038fa40277"
      },
      "source": [
        "import torch.nn as nn\n",
        "import torch.nn.functional as F\n",
        "import torch\n",
        "\n",
        "# dataset constants\n",
        "data_row_n = 100\n",
        "data_feature_n = 15\n",
        "data_output1_n = 3\n",
        "\n",
        "# model hyperparameter\n",
        "lstm1_h = 8\n",
        "\n",
        "# training hyperparameter\n",
        "num_epochs = 30\n",
        "batch_size = 32\n",
        "learning_rate = 0.01\n",
        "\n",
        "class Net(nn.Module):\n",
        "    def __init__(self):\n",
        "        super(Net, self).__init__()\n",
        "\n",
        "        # self.conv1 = nn.Conv1d(1, 3, 3)\n",
        "        # self.conv2 = nn.Conv1d(3, 6, 3)\n",
        "        # self.conv3 = nn.Conv1d(6, 12, 3)\n",
        "        # self.conv4 = nn.Conv1d(12, 24, 3)\n",
        "        # self.pool = nn.MaxPool1d(2)\n",
        "        # self.lstm1 = nn.LSTM(168, 64)\n",
        "        # self.lstm2 = nn.LSTM(96, 96)\n",
        "        # self.lstm3 = nn.LSTM(96, 96)\n",
        "        # self.fc1 = nn.Linear(64, 16)\n",
        "        # self.fc2 = nn.Linear(16, 3)\n",
        "        # self.fc3 = nn.Linear(96, 64)\n",
        "\n",
        "        self.lstm1 = nn.LSTM(data_feature_n, lstm1_h)\n",
        "        self.fc1 = nn.Linear(lstm1_h*data_row_n, data_output1_n)\n",
        "        self.batch_size = batch_size\n",
        "\n",
        "\n",
        "#     def forward(self, x):\n",
        "#         x = F.relu(self.conv1(x), inplace=False)\n",
        "#         #print(x.shape)\n",
        "#         x = F.relu(self.conv2(x), inplace=False)\n",
        "#         #print(x.shape)\n",
        "#         x = F.relu(self.conv3(x), inplace=False)\n",
        "#         #print(x.shape)\n",
        "#         x = F.relu(self.conv4(x), inplace=False)\n",
        "#         #print(x.shape)\n",
        "#         x = x.view(-1, 1, 24 * 7)\n",
        "#         #print(x.shape)\n",
        "\n",
        "#         lstm_out1, h1 = self.lstm1(x)\n",
        "#         #print(lstm_out1.shape)\n",
        "#         x_out = self.fc1(lstm_out1[:, -1, :])\n",
        "#         #print(x_out[:, -1, :].shape)\n",
        "#         out1 = self.fc2(x_out)\n",
        "#         #print(lstm_out1.shape)\n",
        "\n",
        "#         # lstm_out2, h2 = self.lstm2(x - lstm_out1)\n",
        "#         # out2 = self.fc2(lstm_out2[:, -1, :])\n",
        "\n",
        "#         # lstm_out3, h3 = self.lstm3(x - lstm_out1 - lstm_out2)\n",
        "#         # out3 = self.fc3(lstm_out3[:, -1, :])\n",
        "\n",
        "#         return out1#, out2, out3\n",
        "\n",
        "    def forward(self, x, h):\n",
        "        batch_len = x.shape[0]\n",
        "        # x = F.relu(self.conv1(x), inplace=False)\n",
        "        # #print(x.shape)\n",
        "        # x = F.relu(self.conv2(x), inplace=False)\n",
        "        # print(x.shape)\n",
        "\n",
        "        x, _ = self.lstm1(x, h)\n",
        "        #x = x.contiguous().view(batch_len, -1)\n",
        "        x = x.reshape([batch_len, -1])\n",
        "        #print(x.shape)\n",
        "        out = self.fc1(x)\n",
        "        #print(out.shape)\n",
        "        return out\n",
        "\n",
        "    def init_hidden(self, batch_size):\n",
        "        weight = next(self.parameters()).data\n",
        "        hidden = (weight.new(1, 100, 8).zero_().to(device),\n",
        "                      weight.new(1, 100, 8).zero_().to(device))\n",
        "        return hidden\n",
        "            \n",
        "loss_function = nn.CrossEntropyLoss()\n",
        "\n",
        "net = Net().to(device)\n",
        "print(net)\n",
        "\n",
        "optimizer = torch.optim.SGD(net.parameters(), lr=learning_rate)"
      ],
      "execution_count": 85,
      "outputs": [
        {
          "output_type": "stream",
          "text": [
            "Net(\n",
            "  (lstm1): LSTM(15, 8)\n",
            "  (fc1): Linear(in_features=800, out_features=3, bias=True)\n",
            ")\n"
          ],
          "name": "stdout"
        }
      ]
    },
    {
      "cell_type": "code",
      "metadata": {
        "id": "viK224XdsHg7",
        "colab_type": "code",
        "colab": {}
      },
      "source": [
        "def make_train_step(model, loss_fn, optimizer):\n",
        "\n",
        "    def train_step(data, labels):\n",
        "        model.train()\n",
        "        optimizer.zero_grad()\n",
        "\n",
        "        data, labels = data.to(device), labels.to(device)\n",
        "\n",
        "        data = torch.reshape(data, (len(labels), -1, 15))\n",
        "\n",
        "        label1 = torch.reshape(labels[:, 0:1].long(), (-1,))\n",
        "        \n",
        "        output1 = net(data, h)\n",
        "\n",
        "        loss = loss_function(output1, label1)\n",
        "        loss.backward()\n",
        "        optimizer.step()\n",
        "\n",
        "        #print(loss.item())\n",
        "\n",
        "        return loss.item()\n",
        "    \n",
        "    return train_step\n",
        "\n",
        "train_step = make_train_step(net, loss_function, optimizer)"
      ],
      "execution_count": 86,
      "outputs": []
    },
    {
      "cell_type": "code",
      "metadata": {
        "colab_type": "code",
        "id": "_A7WrSAHwFt0",
        "colab": {
          "base_uri": "https://localhost:8080/",
          "height": 527
        },
        "outputId": "995d4676-b38f-4d35-898c-7b15e216c3fd"
      },
      "source": [
        "data_train_files = glob.glob(\"dataset_parsed/train/*.csv\")\n",
        "\n",
        "from torch.utils.data.dataset import random_split\n",
        "\n",
        "h = net.init_hidden(batch_size)\n",
        "train_losses = []\n",
        "val_losses = []\n",
        "\n",
        "for epoch in range(num_epochs):\n",
        "    print(\"Epoch \" + str(epoch + 1))\n",
        "\n",
        "    data_train = OpportunityDatasetParsed(data_train_files)\n",
        "\n",
        "    # TODO: Need to do the splitting better\n",
        "    train_dataset, val_dataset = random_split(data_train, [400, 106])\n",
        "\n",
        "    dataloader_train = DataLoader(train_dataset, batch_size=batch_size,\n",
        "                    shuffle=True)\n",
        "\n",
        "    train_losses_temp = []\n",
        "    for data, labels in dataloader_train:\n",
        "        loss = train_step(data, labels)\n",
        "\n",
        "        train_losses_temp.append(loss)\n",
        "\n",
        "    train_losses.append(np.mean(train_losses_temp))\n",
        "\n",
        "    with torch.no_grad():\n",
        "        dataloader_val = DataLoader(val_dataset, batch_size=batch_size,\n",
        "                        shuffle=False)\n",
        "        \n",
        "        val_losses_temp = []\n",
        "        for data, labels in dataloader_val:\n",
        "            net.eval()\n",
        "            data, labels = data.to(device), labels.to(device)\n",
        "\n",
        "            label1 = torch.reshape(labels[:, 0:1].long(), (-1,))\n",
        "\n",
        "            output1 = net(data, h)\n",
        "\n",
        "            val_loss = loss_function(output1, label1)\n",
        "\n",
        "            val_losses_temp.append(val_loss.item())\n",
        "        \n",
        "        val_losses.append(np.mean(val_losses_temp))\n",
        "\n",
        "#print(net.state_dict())"
      ],
      "execution_count": 88,
      "outputs": [
        {
          "output_type": "stream",
          "text": [
            "Epoch 1\n",
            "Epoch 2\n",
            "Epoch 3\n",
            "Epoch 4\n",
            "Epoch 5\n",
            "Epoch 6\n",
            "Epoch 7\n",
            "Epoch 8\n",
            "Epoch 9\n",
            "Epoch 10\n",
            "Epoch 11\n",
            "Epoch 12\n",
            "Epoch 13\n",
            "Epoch 14\n",
            "Epoch 15\n",
            "Epoch 16\n",
            "Epoch 17\n",
            "Epoch 18\n",
            "Epoch 19\n",
            "Epoch 20\n",
            "Epoch 21\n",
            "Epoch 22\n",
            "Epoch 23\n",
            "Epoch 24\n",
            "Epoch 25\n",
            "Epoch 26\n",
            "Epoch 27\n",
            "Epoch 28\n",
            "Epoch 29\n",
            "Epoch 30\n"
          ],
          "name": "stdout"
        }
      ]
    },
    {
      "cell_type": "code",
      "metadata": {
        "id": "EoS5qjVVj2cI",
        "colab_type": "code",
        "colab": {
          "base_uri": "https://localhost:8080/",
          "height": 282
        },
        "outputId": "a05f8d9f-dab8-4a6b-de64-eca835da5138"
      },
      "source": [
        "import matplotlib.pyplot as plt\n",
        "\n",
        "plt.plot(range(0, num_epochs), train_losses, label=\"train_loss\")\n",
        "plt.plot(range(0, num_epochs), val_losses, label=\"val_loss\")\n",
        "\n",
        "plt.legend()\n"
      ],
      "execution_count": 79,
      "outputs": [
        {
          "output_type": "execute_result",
          "data": {
            "text/plain": [
              "<matplotlib.legend.Legend at 0x7f14d3369358>"
            ]
          },
          "metadata": {
            "tags": []
          },
          "execution_count": 79
        },
        {
          "output_type": "display_data",
          "data": {
            "image/png": "[encoded data removed]",
            "text/plain": [
              "<Figure size 432x288 with 1 Axes>"
            ]
          },
          "metadata": {
            "tags": [],
            "needs_background": "light"
          }
        }
      ]
    },
    {
      "cell_type": "code",
      "metadata": {
        "id": "W5c-2WTkBw8t",
        "colab_type": "code",
        "colab": {
          "base_uri": "https://localhost:8080/",
          "height": 255
        },
        "outputId": "596ab456-eab3-4b05-bf99-08498eb12f29"
      },
      "source": [
        "data_test_files = glob.glob(\"dataset_parsed/test/*.csv\")\n",
        "data_test = OpportunityDatasetParsed(data_test_files)\n",
        "\n",
        "with torch.no_grad():\n",
        "    dataloader_test = DataLoader(data_test, batch_size=batch_size,\n",
        "                    shuffle=False)\n",
        "    \n",
        "    total1 = 0\n",
        "    correct1 = 0\n",
        "\n",
        "    for data, labels in dataloader_test:\n",
        "        net.eval()\n",
        "        data, labels = data.to(device), labels.to(device)\n",
        "\n",
        "        label1 = torch.reshape(labels[:, 0:1].long(), (-1,))\n",
        "\n",
        "        output1 = net(data, h)\n",
        "\n",
        "        _, predicted1 = torch.max(output1, 1)\n",
        "        print(predicted1)\n",
        "\n",
        "\n",
        "        total1 += label1.size(0)\n",
        "\n",
        "\n",
        "        correct1 += (predicted1 == label1).sum()\n",
        "    \n",
        "    accuracy1 = 100 * torch.true_divide(correct1, total1)\n",
        "\n",
        "    print('Accuracy1: {}'.format(accuracy1))"
      ],
      "execution_count": 80,
      "outputs": [
        {
          "output_type": "stream",
          "text": [
            "tensor([2, 1, 0, 2, 1, 1, 0, 1, 0, 0, 1, 1, 1, 1, 0, 0, 1, 0, 0, 1, 0, 0, 0, 1,\n",
            "        1, 1, 1, 1, 0, 1, 0, 1], device='cuda:0')\n",
            "tensor([0, 1, 1, 0, 0, 1, 0, 0, 0, 1, 0, 1, 1, 1, 0, 0, 0, 0, 1, 1, 1, 0, 1, 0,\n",
            "        1, 1, 1, 0, 1, 1, 0, 0], device='cuda:0')\n",
            "tensor([1, 0, 1, 0, 1, 2, 2, 0, 1, 1, 1, 0, 1, 1, 1, 1, 1, 1, 0, 2, 0, 0, 1, 1,\n",
            "        0, 1, 1, 0, 1, 1, 0, 1], device='cuda:0')\n",
            "tensor([0, 1, 1, 0, 0, 0, 0, 1, 2, 2, 0, 1, 0, 1, 1, 1, 1, 2, 0, 0, 1, 1, 2, 2,\n",
            "        2, 2, 2, 2, 1, 0, 1, 1], device='cuda:0')\n",
            "tensor([1, 1, 1, 0, 0, 1, 1, 0, 0, 1, 0, 0, 1, 1, 0, 0, 1, 1, 0, 0, 0, 0, 1, 0,\n",
            "        1, 0, 0, 1, 1, 0, 1, 1], device='cuda:0')\n",
            "tensor([1, 0, 1, 0, 1, 1, 0, 0, 1, 1, 1, 1, 0, 0, 2, 2, 0, 2, 2, 0, 0, 0, 0, 1,\n",
            "        0, 1, 1, 1, 1, 1, 0, 2], device='cuda:0')\n",
            "tensor([2, 2, 2, 1, 1, 0, 0, 1, 0], device='cuda:0')\n",
            "Accuracy1: 66.66666412353516\n"
          ],
          "name": "stdout"
        }
      ]
    },
    {
      "cell_type": "code",
      "metadata": {
        "id": "ccZf5nOKDFUt",
        "colab_type": "code",
        "colab": {}
      },
      "source": [
        "# 66.66% accuracy, not bad"
      ],
      "execution_count": null,
      "outputs": []
    }
  ]
}
