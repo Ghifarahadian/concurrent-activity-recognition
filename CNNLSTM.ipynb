{
  "nbformat": 4,
  "nbformat_minor": 0,
  "metadata": {
    "accelerator": "GPU",
    "colab": {
      "name": "CNNLSTM.ipynb",
      "provenance": [],
      "include_colab_link": true
    },
    "kernelspec": {
      "display_name": "Python 3",
      "language": "python",
      "name": "python3"
    },
    "language_info": {
      "codemirror_mode": {
        "name": "ipython",
        "version": 3
      },
      "file_extension": ".py",
      "mimetype": "text/x-python",
      "name": "python",
      "nbconvert_exporter": "python",
      "pygments_lexer": "ipython3",
      "version": "3.7.3"
    },
    "widgets": {
      "application/vnd.jupyter.widget-state+json": {
        "6cb860840aff48698c61980b13ba6b9a": {
          "model_module": "@jupyter-widgets/controls",
          "model_name": "VBoxModel",
          "state": {
            "_view_name": "VBoxView",
            "_dom_classes": [],
            "_model_name": "VBoxModel",
            "_view_module": "@jupyter-widgets/controls",
            "_model_module_version": "1.5.0",
            "_view_count": null,
            "_view_module_version": "1.5.0",
            "box_style": "",
            "layout": "IPY_MODEL_3bac5223b32b4d8a97af1a9433b02982",
            "_model_module": "@jupyter-widgets/controls",
            "children": [
              "IPY_MODEL_3e8a3205471f4cebb4588e8b98b7ce4d",
              "IPY_MODEL_87a23931f4424b898bc866c290da5b27"
            ]
          }
        },
        "3bac5223b32b4d8a97af1a9433b02982": {
          "model_module": "@jupyter-widgets/base",
          "model_name": "LayoutModel",
          "state": {
            "_view_name": "LayoutView",
            "grid_template_rows": null,
            "right": null,
            "justify_content": null,
            "_view_module": "@jupyter-widgets/base",
            "overflow": null,
            "_model_module_version": "1.2.0",
            "_view_count": null,
            "flex_flow": null,
            "width": null,
            "min_width": null,
            "border": null,
            "align_items": null,
            "bottom": null,
            "_model_module": "@jupyter-widgets/base",
            "top": null,
            "grid_column": null,
            "overflow_y": null,
            "overflow_x": null,
            "grid_auto_flow": null,
            "grid_area": null,
            "grid_template_columns": null,
            "flex": null,
            "_model_name": "LayoutModel",
            "justify_items": null,
            "grid_row": null,
            "max_height": null,
            "align_content": null,
            "visibility": null,
            "align_self": null,
            "height": null,
            "min_height": null,
            "padding": null,
            "grid_auto_rows": null,
            "grid_gap": null,
            "max_width": null,
            "order": null,
            "_view_module_version": "1.2.0",
            "grid_template_areas": null,
            "object_position": null,
            "object_fit": null,
            "grid_auto_columns": null,
            "margin": null,
            "display": null,
            "left": null
          }
        },
        "3e8a3205471f4cebb4588e8b98b7ce4d": {
          "model_module": "@jupyter-widgets/controls",
          "model_name": "HTMLModel",
          "state": {
            "_view_name": "HTMLView",
            "style": "IPY_MODEL_7be3674da8bc418b987bf01c691bdd0b",
            "_dom_classes": [],
            "description": "",
            "_model_name": "HTMLModel",
            "placeholder": "​",
            "_view_module": "@jupyter-widgets/controls",
            "_model_module_version": "1.5.0",
            "value": "Epoch: 60",
            "_view_count": null,
            "_view_module_version": "1.5.0",
            "description_tooltip": null,
            "_model_module": "@jupyter-widgets/controls",
            "layout": "IPY_MODEL_8160b1232c3a44b7b1cdf636e7927f0a"
          }
        },
        "87a23931f4424b898bc866c290da5b27": {
          "model_module": "@jupyter-widgets/controls",
          "model_name": "IntProgressModel",
          "state": {
            "_view_name": "ProgressView",
            "style": "IPY_MODEL_9b04151533074befa4832465e903262f",
            "_dom_classes": [],
            "description": "",
            "_model_name": "IntProgressModel",
            "bar_style": "success",
            "max": 60,
            "_view_module": "@jupyter-widgets/controls",
            "_model_module_version": "1.5.0",
            "value": 60,
            "_view_count": null,
            "_view_module_version": "1.5.0",
            "orientation": "horizontal",
            "min": 0,
            "description_tooltip": null,
            "_model_module": "@jupyter-widgets/controls",
            "layout": "IPY_MODEL_3db1575e64b946ad9516962b124a37d2"
          }
        },
        "7be3674da8bc418b987bf01c691bdd0b": {
          "model_module": "@jupyter-widgets/controls",
          "model_name": "DescriptionStyleModel",
          "state": {
            "_view_name": "StyleView",
            "_model_name": "DescriptionStyleModel",
            "description_width": "",
            "_view_module": "@jupyter-widgets/base",
            "_model_module_version": "1.5.0",
            "_view_count": null,
            "_view_module_version": "1.2.0",
            "_model_module": "@jupyter-widgets/controls"
          }
        },
        "8160b1232c3a44b7b1cdf636e7927f0a": {
          "model_module": "@jupyter-widgets/base",
          "model_name": "LayoutModel",
          "state": {
            "_view_name": "LayoutView",
            "grid_template_rows": null,
            "right": null,
            "justify_content": null,
            "_view_module": "@jupyter-widgets/base",
            "overflow": null,
            "_model_module_version": "1.2.0",
            "_view_count": null,
            "flex_flow": null,
            "width": null,
            "min_width": null,
            "border": null,
            "align_items": null,
            "bottom": null,
            "_model_module": "@jupyter-widgets/base",
            "top": null,
            "grid_column": null,
            "overflow_y": null,
            "overflow_x": null,
            "grid_auto_flow": null,
            "grid_area": null,
            "grid_template_columns": null,
            "flex": null,
            "_model_name": "LayoutModel",
            "justify_items": null,
            "grid_row": null,
            "max_height": null,
            "align_content": null,
            "visibility": null,
            "align_self": null,
            "height": null,
            "min_height": null,
            "padding": null,
            "grid_auto_rows": null,
            "grid_gap": null,
            "max_width": null,
            "order": null,
            "_view_module_version": "1.2.0",
            "grid_template_areas": null,
            "object_position": null,
            "object_fit": null,
            "grid_auto_columns": null,
            "margin": null,
            "display": null,
            "left": null
          }
        },
        "9b04151533074befa4832465e903262f": {
          "model_module": "@jupyter-widgets/controls",
          "model_name": "ProgressStyleModel",
          "state": {
            "_view_name": "StyleView",
            "_model_name": "ProgressStyleModel",
            "description_width": "",
            "_view_module": "@jupyter-widgets/base",
            "_model_module_version": "1.5.0",
            "_view_count": null,
            "_view_module_version": "1.2.0",
            "bar_color": null,
            "_model_module": "@jupyter-widgets/controls"
          }
        },
        "3db1575e64b946ad9516962b124a37d2": {
          "model_module": "@jupyter-widgets/base",
          "model_name": "LayoutModel",
          "state": {
            "_view_name": "LayoutView",
            "grid_template_rows": null,
            "right": null,
            "justify_content": null,
            "_view_module": "@jupyter-widgets/base",
            "overflow": null,
            "_model_module_version": "1.2.0",
            "_view_count": null,
            "flex_flow": null,
            "width": null,
            "min_width": null,
            "border": null,
            "align_items": null,
            "bottom": null,
            "_model_module": "@jupyter-widgets/base",
            "top": null,
            "grid_column": null,
            "overflow_y": null,
            "overflow_x": null,
            "grid_auto_flow": null,
            "grid_area": null,
            "grid_template_columns": null,
            "flex": null,
            "_model_name": "LayoutModel",
            "justify_items": null,
            "grid_row": null,
            "max_height": null,
            "align_content": null,
            "visibility": null,
            "align_self": null,
            "height": null,
            "min_height": null,
            "padding": null,
            "grid_auto_rows": null,
            "grid_gap": null,
            "max_width": null,
            "order": null,
            "_view_module_version": "1.2.0",
            "grid_template_areas": null,
            "object_position": null,
            "object_fit": null,
            "grid_auto_columns": null,
            "margin": null,
            "display": null,
            "left": null
          }
        },
        "0247417fefbc481c9efb138eb8ca1a02": {
          "model_module": "@jupyter-widgets/controls",
          "model_name": "VBoxModel",
          "state": {
            "_view_name": "VBoxView",
            "_dom_classes": [],
            "_model_name": "VBoxModel",
            "_view_module": "@jupyter-widgets/controls",
            "_model_module_version": "1.5.0",
            "_view_count": null,
            "_view_module_version": "1.5.0",
            "box_style": "",
            "layout": "IPY_MODEL_8fd575a2910545d3a94d53ab3bf2dc64",
            "_model_module": "@jupyter-widgets/controls",
            "children": [
              "IPY_MODEL_c401b4734fab4923b5636fcaf0b3f936",
              "IPY_MODEL_2ee84ad9f6904f94840c5498f241fa6e"
            ]
          }
        },
        "8fd575a2910545d3a94d53ab3bf2dc64": {
          "model_module": "@jupyter-widgets/base",
          "model_name": "LayoutModel",
          "state": {
            "_view_name": "LayoutView",
            "grid_template_rows": null,
            "right": null,
            "justify_content": null,
            "_view_module": "@jupyter-widgets/base",
            "overflow": null,
            "_model_module_version": "1.2.0",
            "_view_count": null,
            "flex_flow": null,
            "width": null,
            "min_width": null,
            "border": null,
            "align_items": null,
            "bottom": null,
            "_model_module": "@jupyter-widgets/base",
            "top": null,
            "grid_column": null,
            "overflow_y": null,
            "overflow_x": null,
            "grid_auto_flow": null,
            "grid_area": null,
            "grid_template_columns": null,
            "flex": null,
            "_model_name": "LayoutModel",
            "justify_items": null,
            "grid_row": null,
            "max_height": null,
            "align_content": null,
            "visibility": null,
            "align_self": null,
            "height": null,
            "min_height": null,
            "padding": null,
            "grid_auto_rows": null,
            "grid_gap": null,
            "max_width": null,
            "order": null,
            "_view_module_version": "1.2.0",
            "grid_template_areas": null,
            "object_position": null,
            "object_fit": null,
            "grid_auto_columns": null,
            "margin": null,
            "display": null,
            "left": null
          }
        },
        "c401b4734fab4923b5636fcaf0b3f936": {
          "model_module": "@jupyter-widgets/controls",
          "model_name": "HTMLModel",
          "state": {
            "_view_name": "HTMLView",
            "style": "IPY_MODEL_a2d74efc4889474190185c2fd236644c",
            "_dom_classes": [],
            "description": "",
            "_model_name": "HTMLModel",
            "placeholder": "​",
            "_view_module": "@jupyter-widgets/controls",
            "_model_module_version": "1.5.0",
            "value": "Testing: 7",
            "_view_count": null,
            "_view_module_version": "1.5.0",
            "description_tooltip": null,
            "_model_module": "@jupyter-widgets/controls",
            "layout": "IPY_MODEL_c5ebfdac82884c1aad1aeacfd5a9ac84"
          }
        },
        "2ee84ad9f6904f94840c5498f241fa6e": {
          "model_module": "@jupyter-widgets/controls",
          "model_name": "IntProgressModel",
          "state": {
            "_view_name": "ProgressView",
            "style": "IPY_MODEL_d841535f33c54f5a9304d30754c965f7",
            "_dom_classes": [],
            "description": "",
            "_model_name": "IntProgressModel",
            "bar_style": "success",
            "max": 7,
            "_view_module": "@jupyter-widgets/controls",
            "_model_module_version": "1.5.0",
            "value": 7,
            "_view_count": null,
            "_view_module_version": "1.5.0",
            "orientation": "horizontal",
            "min": 0,
            "description_tooltip": null,
            "_model_module": "@jupyter-widgets/controls",
            "layout": "IPY_MODEL_58f3819294894687a6e5b4c6f7be1ed5"
          }
        },
        "a2d74efc4889474190185c2fd236644c": {
          "model_module": "@jupyter-widgets/controls",
          "model_name": "DescriptionStyleModel",
          "state": {
            "_view_name": "StyleView",
            "_model_name": "DescriptionStyleModel",
            "description_width": "",
            "_view_module": "@jupyter-widgets/base",
            "_model_module_version": "1.5.0",
            "_view_count": null,
            "_view_module_version": "1.2.0",
            "_model_module": "@jupyter-widgets/controls"
          }
        },
        "c5ebfdac82884c1aad1aeacfd5a9ac84": {
          "model_module": "@jupyter-widgets/base",
          "model_name": "LayoutModel",
          "state": {
            "_view_name": "LayoutView",
            "grid_template_rows": null,
            "right": null,
            "justify_content": null,
            "_view_module": "@jupyter-widgets/base",
            "overflow": null,
            "_model_module_version": "1.2.0",
            "_view_count": null,
            "flex_flow": null,
            "width": null,
            "min_width": null,
            "border": null,
            "align_items": null,
            "bottom": null,
            "_model_module": "@jupyter-widgets/base",
            "top": null,
            "grid_column": null,
            "overflow_y": null,
            "overflow_x": null,
            "grid_auto_flow": null,
            "grid_area": null,
            "grid_template_columns": null,
            "flex": null,
            "_model_name": "LayoutModel",
            "justify_items": null,
            "grid_row": null,
            "max_height": null,
            "align_content": null,
            "visibility": null,
            "align_self": null,
            "height": null,
            "min_height": null,
            "padding": null,
            "grid_auto_rows": null,
            "grid_gap": null,
            "max_width": null,
            "order": null,
            "_view_module_version": "1.2.0",
            "grid_template_areas": null,
            "object_position": null,
            "object_fit": null,
            "grid_auto_columns": null,
            "margin": null,
            "display": null,
            "left": null
          }
        },
        "d841535f33c54f5a9304d30754c965f7": {
          "model_module": "@jupyter-widgets/controls",
          "model_name": "ProgressStyleModel",
          "state": {
            "_view_name": "StyleView",
            "_model_name": "ProgressStyleModel",
            "description_width": "",
            "_view_module": "@jupyter-widgets/base",
            "_model_module_version": "1.5.0",
            "_view_count": null,
            "_view_module_version": "1.2.0",
            "bar_color": null,
            "_model_module": "@jupyter-widgets/controls"
          }
        },
        "58f3819294894687a6e5b4c6f7be1ed5": {
          "model_module": "@jupyter-widgets/base",
          "model_name": "LayoutModel",
          "state": {
            "_view_name": "LayoutView",
            "grid_template_rows": null,
            "right": null,
            "justify_content": null,
            "_view_module": "@jupyter-widgets/base",
            "overflow": null,
            "_model_module_version": "1.2.0",
            "_view_count": null,
            "flex_flow": null,
            "width": null,
            "min_width": null,
            "border": null,
            "align_items": null,
            "bottom": null,
            "_model_module": "@jupyter-widgets/base",
            "top": null,
            "grid_column": null,
            "overflow_y": null,
            "overflow_x": null,
            "grid_auto_flow": null,
            "grid_area": null,
            "grid_template_columns": null,
            "flex": null,
            "_model_name": "LayoutModel",
            "justify_items": null,
            "grid_row": null,
            "max_height": null,
            "align_content": null,
            "visibility": null,
            "align_self": null,
            "height": null,
            "min_height": null,
            "padding": null,
            "grid_auto_rows": null,
            "grid_gap": null,
            "max_width": null,
            "order": null,
            "_view_module_version": "1.2.0",
            "grid_template_areas": null,
            "object_position": null,
            "object_fit": null,
            "grid_auto_columns": null,
            "margin": null,
            "display": null,
            "left": null
          }
        }
      }
    }
  },
  "cells": [
    {
      "cell_type": "markdown",
      "metadata": {
        "id": "view-in-github",
        "colab_type": "text"
      },
      "source": [
        "<a href=\"https://colab.research.google.com/github/Ghifarahadian/concurrent-activity-recognition/blob/master/CNNLSTM.ipynb\" target=\"_parent\"><img src=\"https://colab.research.google.com/assets/colab-badge.svg\" alt=\"Open In Colab\"/></a>"
      ]
    },
    {
      "cell_type": "code",
      "metadata": {
        "id": "p72HxINZnbFc"
      },
      "source": [
        "IS_COLAB = True"
      ],
      "execution_count": null,
      "outputs": []
    },
    {
      "cell_type": "code",
      "metadata": {
        "id": "PsTIJjcyZ80g",
        "outputId": "4216bf67-9852-4561-9368-2704aba05c72",
        "colab": {
          "base_uri": "https://localhost:8080/",
          "height": 68
        }
      },
      "source": [
        "import sys\n",
        "import os\n",
        "import gc\n",
        "import torch\n",
        "import pandas as pd\n",
        "import numpy as np\n",
        "import glob\n",
        "import math\n",
        "\n",
        "import matplotlib.pyplot as plt\n",
        "from torch.utils.data.dataset import random_split\n",
        "from torch.utils.data import Dataset, DataLoader\n",
        "\n",
        "import torch.nn as nn\n",
        "import torch.nn.functional as F\n",
        "import torch\n",
        "\n",
        "from sklearn import metrics\n",
        "\n",
        "# Log progress\n",
        "def log_progress(sequence, every=None, size=None, name='Items'):\n",
        "    from ipywidgets import IntProgress, HTML, VBox\n",
        "    from IPython.display import display\n",
        "\n",
        "    is_iterator = False\n",
        "    if size is None:\n",
        "        try:\n",
        "            size = len(sequence)\n",
        "        except TypeError:\n",
        "            is_iterator = True\n",
        "    if size is not None:\n",
        "        if every is None:\n",
        "            if size <= 200:\n",
        "                every = 1\n",
        "            else:\n",
        "                every = int(size / 200)     # every 0.5%\n",
        "    else:\n",
        "        assert every is not None, 'sequence is iterator, set every'\n",
        "\n",
        "    if is_iterator:\n",
        "        progress = IntProgress(min=0, max=1, value=1)\n",
        "        progress.bar_style = 'info'\n",
        "    else:\n",
        "        progress = IntProgress(min=0, max=size, value=0)\n",
        "    label = HTML()\n",
        "    box = VBox(children=[label, progress])\n",
        "    display(box)\n",
        "\n",
        "    index = 0\n",
        "    try:\n",
        "        for index, record in enumerate(sequence, 1):\n",
        "            if index == 1 or index % every == 0:\n",
        "                if is_iterator:\n",
        "                    label.value = '{name}: {index} / ?'.format(\n",
        "                        name=name,\n",
        "                        index=index\n",
        "                    )\n",
        "                else:\n",
        "                    progress.value = index\n",
        "                    label.value = u'{name}: {index} / {size}'.format(\n",
        "                        name=name,\n",
        "                        index=index,\n",
        "                        size=size\n",
        "                    )\n",
        "            yield record\n",
        "    except:\n",
        "        progress.bar_style = 'danger'\n",
        "        raise\n",
        "    else:\n",
        "        progress.bar_style = 'success'\n",
        "        progress.value = index\n",
        "        label.value = \"{name}: {index}\".format(\n",
        "            name=name,\n",
        "            index=str(index or '?')\n",
        "        )\n",
        "\n",
        "if IS_COLAB:\n",
        "    # using google colab\n",
        "    from google.colab import drive\n",
        "    drive.mount('/content/drive')\n",
        "    ROOT = os.path.join('/content', 'drive', 'My Drive',\n",
        "                        'concurrent-activity-recognition')\n",
        "    os.chdir(ROOT)\n",
        "else:\n",
        "    # using own pc\n",
        "    ROOT = os.path.join(os.getcwd(), 'concurrent-activity-recognition')\n",
        "    os.chdir(ROOT)\n",
        "\n",
        "print(ROOT)\n",
        "\n",
        "if torch.cuda.is_available():\n",
        "    device = torch.device(\"cuda:0\")  # you can continue going on here, like cuda:1 cuda:2....etc. \n",
        "    print(\"Running on the GPU\")\n",
        "else:\n",
        "    device = torch.device(\"cpu\")\n",
        "    print(\"Running on the CPU\")"
      ],
      "execution_count": null,
      "outputs": [
        {
          "output_type": "stream",
          "text": [
            "Mounted at /content/drive\n",
            "/content/drive/My Drive/concurrent-activity-recognition\n",
            "Running on the GPU\n"
          ],
          "name": "stdout"
        }
      ]
    },
    {
      "cell_type": "code",
      "metadata": {
        "id": "v_oOhST5RNtK"
      },
      "source": [
        "class OpportunityDatasetParsed(Dataset):\n",
        "    def __init__(self, filenames):\n",
        "        self.filenames = filenames\n",
        "        \n",
        "    def __len__(self):\n",
        "        return len(self.filenames)\n",
        "\n",
        "    def __getitem__(self, index):\n",
        "        filename = self.filenames[index]\n",
        "\n",
        "        df = pd.read_csv(filename, header = 0)\n",
        "\n",
        "        # first 15 columns are for data\n",
        "        data = torch.FloatTensor(\n",
        "            df.iloc[:, 0:15].values.astype('float'))\n",
        "        \n",
        "        # last 3 columns are for label\n",
        "        label = torch.FloatTensor(\n",
        "            df.iloc[99, 15:18].values.astype('float'))\n",
        "\n",
        "        return data, label"
      ],
      "execution_count": null,
      "outputs": []
    },
    {
      "cell_type": "code",
      "metadata": {
        "id": "vaJxhUtfaLVR",
        "outputId": "7f1c91b1-1160-4941-8748-154e5f423f11",
        "colab": {
          "base_uri": "https://localhost:8080/",
          "height": 34
        }
      },
      "source": [
        "# grid search\n",
        "conv1_outchs = [20]\n",
        "conv1_sizes = [5]\n",
        "conv2_outchs = [40]\n",
        "conv2_sizes = [5]\n",
        "conv3_outchs = [20]\n",
        "conv3_sizes = [3]\n",
        "conv4_outchs = [10]\n",
        "conv4_sizes = [3]\n",
        "lstm1_hs = [10]\n",
        "learning_rates = [0.1]\n",
        "\n",
        "grids = [(conv1_outch, conv1_size, conv2_outch, conv2_size,\n",
        "          conv3_outch, conv3_size, conv4_outch, conv4_size,\n",
        "          lstm1_h, learning_rate)\n",
        "        for conv1_outch in conv1_outchs\n",
        "        for conv1_size in conv1_sizes\n",
        "        for conv2_outch in conv2_outchs\n",
        "        for conv2_size in conv2_sizes\n",
        "        for conv3_outch in conv3_outchs\n",
        "        for conv3_size in conv3_sizes\n",
        "        for conv4_outch in conv4_outchs\n",
        "        for conv4_size in conv4_sizes\n",
        "        for lstm1_h in lstm1_hs\n",
        "        for learning_rate in learning_rates\n",
        "        ]\n",
        "\n",
        "#grids = [(30, 3, 60, 3, 20, 0.1), (20, 3, 60, 3, 30, 0.1)]\n",
        "grids"
      ],
      "execution_count": null,
      "outputs": [
        {
          "output_type": "execute_result",
          "data": {
            "text/plain": [
              "[(20, 5, 40, 5, 20, 3, 10, 3, 10, 0.1)]"
            ]
          },
          "metadata": {
            "tags": []
          },
          "execution_count": 66
        }
      ]
    },
    {
      "cell_type": "code",
      "metadata": {
        "id": "DCiwj9_Poakn"
      },
      "source": [
        "# dataset constants\n",
        "data_row_n = 100\n",
        "data_feature_n = 15\n",
        "data_output1_n = 3\n",
        "\n",
        "# training hyperparameter\n",
        "num_epochs = 60\n",
        "batch_size = 32\n",
        "\n",
        "class CNN_LSTM(nn.Module):\n",
        "    def __init__(self, grid):\n",
        "        super(CNN_LSTM, self).__init__()\n",
        "        conv1_outch = grid[0]\n",
        "        conv1_size = grid[1]\n",
        "        conv1_outlen = data_row_n - (conv1_size - 1)\n",
        "        conv2_outch = grid[2]\n",
        "        conv2_size = grid[3]\n",
        "        conv2_outlen = conv1_outlen - (conv2_size - 1)\n",
        "\n",
        "        conv3_outch = grid[4]\n",
        "        conv3_size = grid[5]\n",
        "        conv3_outlen = conv2_outlen - (conv3_size - 1)\n",
        "        conv4_outch = grid[6]\n",
        "        conv4_size = grid[7]\n",
        "        conv4_outlen = conv3_outlen - (conv4_size - 1)\n",
        "\n",
        "        lstm1_h = grid[8]\n",
        "        self.lstm1_h = lstm1_h\n",
        "        lstm1_hlen = conv4_outlen\n",
        "        self.lstm1_hlen = lstm1_hlen\n",
        "\n",
        "        self.conv1 = nn.Conv1d(data_feature_n, conv1_outch, conv1_size)\n",
        "        self.conv2 = nn.Conv1d(conv1_outch, conv2_outch, conv2_size)\n",
        "\n",
        "        self.conv3 = nn.Conv1d(conv2_outch, conv3_outch, conv3_size)\n",
        "        self.conv4 = nn.Conv1d(conv3_outch, conv4_outch, conv4_size)\n",
        "\n",
        "        self.lstm1 = nn.LSTM(conv4_outch, lstm1_h)\n",
        "        self.fc1 = nn.Linear(lstm1_h*lstm1_hlen, data_output1_n)\n",
        "\n",
        "    def forward(self, x, h):\n",
        "        batch_len = x.shape[0]\n",
        "        x.transpose_(1, 2)\n",
        "        x = F.relu(self.conv1(x), inplace=False)\n",
        "        x = F.relu(self.conv2(x), inplace=False)\n",
        "\n",
        "        x = F.relu(self.conv3(x), inplace=False)\n",
        "        x = F.relu(self.conv4(x), inplace=False)\n",
        "\n",
        "        x.transpose_(1, 2)\n",
        "        #print(x.shape)\n",
        "        #print(h[0].shape)\n",
        "        #print(h[1].shape)\n",
        "        x, _ = self.lstm1(x, h)\n",
        "        #print(x.shape)\n",
        "        x = x.reshape([batch_len, -1])\n",
        "        #print(x.shape)\n",
        "        out = self.fc1(x)\n",
        "        #print(x.shape)\n",
        "        return out\n",
        "\n",
        "    def init_hidden(self):\n",
        "        weight = next(self.parameters()).data\n",
        "        hidden = (weight.new(1, self.lstm1_hlen,\n",
        "                             self.lstm1_h).zero_().to(device),\n",
        "                  weight.new(1, self.lstm1_hlen,\n",
        "                             self.lstm1_h).zero_().to(device))\n",
        "        return hidden\n",
        "\n",
        "def make_train_step(model, loss_fn, optimizer):\n",
        "    def train_step(data, labels, h):\n",
        "        model.train()\n",
        "        optimizer.zero_grad()\n",
        "\n",
        "        data, labels = data.to(device), labels.to(device)\n",
        "\n",
        "        data = torch.reshape(data, (len(labels), -1, 15))\n",
        "\n",
        "        label1 = torch.reshape(labels[:, 0:1].long(), (-1,))\n",
        "        \n",
        "        output1 = model(data, h)\n",
        "\n",
        "        loss = loss_function(output1, label1)\n",
        "        loss.backward()\n",
        "        optimizer.step()\n",
        "        return loss.item()\n",
        "\n",
        "    return train_step"
      ],
      "execution_count": null,
      "outputs": []
    },
    {
      "cell_type": "code",
      "metadata": {
        "id": "_A7WrSAHwFt0",
        "outputId": "d91e0b3d-c383-49e5-d891-4e8c03dcc764",
        "colab": {
          "base_uri": "https://localhost:8080/",
          "height": 362,
          "referenced_widgets": [
            "6cb860840aff48698c61980b13ba6b9a",
            "3bac5223b32b4d8a97af1a9433b02982",
            "3e8a3205471f4cebb4588e8b98b7ce4d",
            "87a23931f4424b898bc866c290da5b27",
            "7be3674da8bc418b987bf01c691bdd0b",
            "8160b1232c3a44b7b1cdf636e7927f0a",
            "9b04151533074befa4832465e903262f",
            "3db1575e64b946ad9516962b124a37d2"
          ]
        }
      },
      "source": [
        "# Training and validation, by using grid search\n",
        "torch.manual_seed(69)\n",
        "models = []\n",
        "fig, axs = plt.subplots(len(grids), figsize=(18, 4*len(grids)))\n",
        "i = 0\n",
        "for grid in grids:\n",
        "    model = CNN_LSTM(grid).to(device)\n",
        "    loss_function = nn.CrossEntropyLoss()\n",
        "    optimizer = torch.optim.SGD(model.parameters(), lr=grid[9])\n",
        "    train_step = make_train_step(model, loss_function, optimizer)\n",
        "\n",
        "    data_train_files = glob.glob(\"dataset_parsed/train/*.csv\")\n",
        "    h = model.init_hidden()\n",
        "    train_losses = []\n",
        "    val_losses = []\n",
        "\n",
        "    # TODO: Need to do the splitting better\n",
        "    data_train = OpportunityDatasetParsed(data_train_files)\n",
        "    train_dataset, val_dataset = random_split(data_train,\n",
        "            [math.ceil(1*len(data_train)), math.floor(0*len(data_train))])\n",
        "    \n",
        "    for epoch in log_progress(range(num_epochs), name=\"Epoch\"):\n",
        "    #for epoch in range(num_epochs):\n",
        "        #print(\"Epoch \" + str(epoch + 1))\n",
        "\n",
        "\n",
        "        dataloader_train = DataLoader(train_dataset, batch_size=batch_size,\n",
        "                        shuffle=True)\n",
        "\n",
        "        train_losses_temp = []\n",
        "        #for data, labels in log_progress(dataloader_train, name=\"Training\"):\n",
        "        for data, labels in dataloader_train:\n",
        "            loss = train_step(data, labels, h)\n",
        "            train_losses_temp.append(loss)\n",
        "\n",
        "        train_losses.append(np.mean(train_losses_temp))\n",
        "\n",
        "        with torch.no_grad():\n",
        "            if len(val_dataset) == 0:\n",
        "                val_losses.append(0)\n",
        "                continue\n",
        "            \n",
        "            dataloader_val = DataLoader(val_dataset, batch_size=batch_size,\n",
        "                            shuffle=True)\n",
        "            \n",
        "            val_losses_temp = []\n",
        "            for data, labels in dataloader_val:\n",
        "                model.eval()\n",
        "                data, labels = data.to(device), labels.to(device)\n",
        "\n",
        "                label1 = torch.reshape(labels[:, 0:1].long(), (-1,))\n",
        "\n",
        "                output1 = model(data, h)\n",
        "\n",
        "                val_loss = loss_function(output1, label1)\n",
        "                val_losses_temp.append(val_loss.item())\n",
        "            \n",
        "            val_losses.append(np.mean(val_losses_temp))\n",
        "\n",
        "    models.append(model)\n",
        "\n",
        "    try:\n",
        "        axs[i].plot(range(0, num_epochs), train_losses, label=\"train_loss\")\n",
        "        #axs[i].plot(range(0, num_epochs), val_losses, label=\"val_loss\")\n",
        "        axs[i].set_title(grid)\n",
        "    except:\n",
        "        axs.plot(range(0, num_epochs), train_losses, label=\"train_loss\")\n",
        "        #axs.plot(range(0, num_epochs), val_losses, label=\"val_loss\")\n",
        "        axs.set_title(grid)\n",
        "    i += 1\n",
        "\n",
        "plt.legend()"
      ],
      "execution_count": null,
      "outputs": [
        {
          "output_type": "display_data",
          "data": {
            "application/vnd.jupyter.widget-view+json": {
              "model_id": "6cb860840aff48698c61980b13ba6b9a",
              "version_minor": 0,
              "version_major": 2
            },
            "text/plain": [
              "VBox(children=(HTML(value=''), IntProgress(value=0, max=60)))"
            ]
          },
          "metadata": {
            "tags": []
          }
        },
        {
          "output_type": "execute_result",
          "data": {
            "text/plain": [
              "<matplotlib.legend.Legend at 0x7fb3516ff198>"
            ]
          },
          "metadata": {
            "tags": []
          },
          "execution_count": 68
        },
        {
          "output_type": "display_data",
          "data": {
            "image/png": "[encoded data removed]",
            "text/plain": [
              "<Figure size 1296x288 with 1 Axes>"
            ]
          },
          "metadata": {
            "tags": [],
            "needs_background": "light"
          }
        }
      ]
    },
    {
      "cell_type": "code",
      "metadata": {
        "id": "W5c-2WTkBw8t",
        "outputId": "0ddbe441-cc1e-4559-dc67-734bbec432f5",
        "colab": {
          "base_uri": "https://localhost:8080/",
          "height": 166,
          "referenced_widgets": [
            "0247417fefbc481c9efb138eb8ca1a02",
            "8fd575a2910545d3a94d53ab3bf2dc64",
            "c401b4734fab4923b5636fcaf0b3f936",
            "2ee84ad9f6904f94840c5498f241fa6e",
            "a2d74efc4889474190185c2fd236644c",
            "c5ebfdac82884c1aad1aeacfd5a9ac84",
            "d841535f33c54f5a9304d30754c965f7",
            "58f3819294894687a6e5b4c6f7be1ed5"
          ]
        }
      },
      "source": [
        "data_test_files = glob.glob(\"dataset_parsed/test/*.csv\")\n",
        "data_test = OpportunityDatasetParsed(data_test_files)\n",
        "\n",
        "i = 0\n",
        "for model in models:\n",
        "    with torch.no_grad():\n",
        "        h = model.init_hidden()\n",
        "        dataloader_test = DataLoader(data_test, batch_size=batch_size,\n",
        "                        shuffle=False)\n",
        "        \n",
        "        label1_all = []\n",
        "        predicted1_all = []\n",
        "\n",
        "        for data, labels in log_progress(dataloader_test, name=\"Testing\"):\n",
        "            model.eval()\n",
        "            data, labels = data.to(device), labels.to(device)\n",
        "\n",
        "            label1 = torch.reshape(labels[:, 0:1].long(), (-1,))\n",
        "            label1_all.extend(label1.tolist())\n",
        "\n",
        "            output1 = model(data, h)\n",
        "\n",
        "            _, predicted1 = torch.max(output1, 1)\n",
        "\n",
        "            predicted1_all.extend(predicted1.tolist())\n",
        "        \n",
        "        print(\"Grid: {}\".format(grids[i]))\n",
        "        i += 1\n",
        "        print(\"Accuracy: {}\".format(metrics.accuracy_score(label1_all, predicted1_all)))\n",
        "        print(\"F1 (micro): {}\".format(metrics.f1_score(label1_all, predicted1_all, average='micro')))\n",
        "        print(\"F1 (macro): {}\".format(metrics.f1_score(label1_all, predicted1_all, average='macro')))\n",
        "        print(\"F1 (weighted): {}\".format(metrics.f1_score(label1_all, predicted1_all, average='weighted')))\n",
        "\n"
      ],
      "execution_count": null,
      "outputs": [
        {
          "output_type": "display_data",
          "data": {
            "application/vnd.jupyter.widget-view+json": {
              "model_id": "0247417fefbc481c9efb138eb8ca1a02",
              "version_minor": 0,
              "version_major": 2
            },
            "text/plain": [
              "VBox(children=(HTML(value=''), IntProgress(value=0, max=7)))"
            ]
          },
          "metadata": {
            "tags": []
          }
        },
        {
          "output_type": "stream",
          "text": [
            "Grid: (40, 5, 40, 5, 20, 5, 20, 5, 10, 0.1)\n",
            "Accuracy: 0.6616915422885572\n",
            "F1 (micro): 0.6616915422885572\n",
            "F1 (macro): 0.713953045657188\n",
            "F1 (weighted): 0.657610041249796\n"
          ],
          "name": "stdout"
        }
      ]
    },
    {
      "cell_type": "code",
      "metadata": {
        "id": "IYcREY2Q1HCU",
        "outputId": "50e6b6dd-9315-481e-b8fe-041cf80cd163",
        "colab": {
          "base_uri": "https://localhost:8080/",
          "height": 303
        }
      },
      "source": [
        "axs.plot(range(0, num_epochs), train_losses, label=\"train_loss\")\n",
        "axs.plot(range(0, num_epochs), val_losses, label=\"val_loss\")\n",
        "\n",
        "plt.legend()"
      ],
      "execution_count": null,
      "outputs": [
        {
          "output_type": "stream",
          "text": [
            "No handles with labels found to put in legend.\n"
          ],
          "name": "stderr"
        },
        {
          "output_type": "execute_result",
          "data": {
            "text/plain": [
              "<matplotlib.legend.Legend at 0x7fd78b49ce48>"
            ]
          },
          "metadata": {
            "tags": []
          },
          "execution_count": 31
        },
        {
          "output_type": "display_data",
          "data": {
            "image/png": "[encoded data removed]",
            "text/plain": [
              "<Figure size 432x288 with 1 Axes>"
            ]
          },
          "metadata": {
            "tags": [],
            "needs_background": "light"
          }
        }
      ]
    }
  ]
}