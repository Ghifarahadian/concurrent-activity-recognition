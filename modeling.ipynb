{
  "nbformat": 4,
  "nbformat_minor": 0,
  "metadata": {
    "accelerator": "GPU",
    "colab": {
      "name": "modeling.ipynb",
      "provenance": [],
      "include_colab_link": true
    },
    "kernelspec": {
      "display_name": "Python 3",
      "language": "python",
      "name": "python3"
    },
    "language_info": {
      "codemirror_mode": {
        "name": "ipython",
        "version": 3
      },
      "file_extension": ".py",
      "mimetype": "text/x-python",
      "name": "python",
      "nbconvert_exporter": "python",
      "pygments_lexer": "ipython3",
      "version": "3.7.3"
    },
    "widgets": {
      "application/vnd.jupyter.widget-state+json": {
        "cde003dfdc174f90b25b640d57e68a9f": {
          "model_module": "@jupyter-widgets/controls",
          "model_name": "VBoxModel",
          "state": {
            "_view_name": "VBoxView",
            "_dom_classes": [],
            "_model_name": "VBoxModel",
            "_view_module": "@jupyter-widgets/controls",
            "_model_module_version": "1.5.0",
            "_view_count": null,
            "_view_module_version": "1.5.0",
            "box_style": "",
            "layout": "IPY_MODEL_3f7db14137c04917b55e056d2f8f4ba3",
            "_model_module": "@jupyter-widgets/controls",
            "children": [
              "IPY_MODEL_c290634208714f018d5229fb81457945",
              "IPY_MODEL_fe4b97cf31de4308986b39a78c780702"
            ]
          }
        },
        "3f7db14137c04917b55e056d2f8f4ba3": {
          "model_module": "@jupyter-widgets/base",
          "model_name": "LayoutModel",
          "state": {
            "_view_name": "LayoutView",
            "grid_template_rows": null,
            "right": null,
            "justify_content": null,
            "_view_module": "@jupyter-widgets/base",
            "overflow": null,
            "_model_module_version": "1.2.0",
            "_view_count": null,
            "flex_flow": null,
            "width": null,
            "min_width": null,
            "border": null,
            "align_items": null,
            "bottom": null,
            "_model_module": "@jupyter-widgets/base",
            "top": null,
            "grid_column": null,
            "overflow_y": null,
            "overflow_x": null,
            "grid_auto_flow": null,
            "grid_area": null,
            "grid_template_columns": null,
            "flex": null,
            "_model_name": "LayoutModel",
            "justify_items": null,
            "grid_row": null,
            "max_height": null,
            "align_content": null,
            "visibility": null,
            "align_self": null,
            "height": null,
            "min_height": null,
            "padding": null,
            "grid_auto_rows": null,
            "grid_gap": null,
            "max_width": null,
            "order": null,
            "_view_module_version": "1.2.0",
            "grid_template_areas": null,
            "object_position": null,
            "object_fit": null,
            "grid_auto_columns": null,
            "margin": null,
            "display": null,
            "left": null
          }
        },
        "c290634208714f018d5229fb81457945": {
          "model_module": "@jupyter-widgets/controls",
          "model_name": "HTMLModel",
          "state": {
            "_view_name": "HTMLView",
            "style": "IPY_MODEL_c6e82c91a8f844faaca106f87f60dfbd",
            "_dom_classes": [],
            "description": "",
            "_model_name": "HTMLModel",
            "placeholder": "​",
            "_view_module": "@jupyter-widgets/controls",
            "_model_module_version": "1.5.0",
            "value": "Epoch: 1 / 10",
            "_view_count": null,
            "_view_module_version": "1.5.0",
            "description_tooltip": null,
            "_model_module": "@jupyter-widgets/controls",
            "layout": "IPY_MODEL_a7c9282179d04923acf2559532507a9a"
          }
        },
        "fe4b97cf31de4308986b39a78c780702": {
          "model_module": "@jupyter-widgets/controls",
          "model_name": "IntProgressModel",
          "state": {
            "_view_name": "ProgressView",
            "style": "IPY_MODEL_257e106d5e244835bb5c7838434914ef",
            "_dom_classes": [],
            "description": "",
            "_model_name": "IntProgressModel",
            "bar_style": "",
            "max": 10,
            "_view_module": "@jupyter-widgets/controls",
            "_model_module_version": "1.5.0",
            "value": 1,
            "_view_count": null,
            "_view_module_version": "1.5.0",
            "orientation": "horizontal",
            "min": 0,
            "description_tooltip": null,
            "_model_module": "@jupyter-widgets/controls",
            "layout": "IPY_MODEL_8a8bb3ffdfcc4fd9b374c1fd113fb0a4"
          }
        },
        "c6e82c91a8f844faaca106f87f60dfbd": {
          "model_module": "@jupyter-widgets/controls",
          "model_name": "DescriptionStyleModel",
          "state": {
            "_view_name": "StyleView",
            "_model_name": "DescriptionStyleModel",
            "description_width": "",
            "_view_module": "@jupyter-widgets/base",
            "_model_module_version": "1.5.0",
            "_view_count": null,
            "_view_module_version": "1.2.0",
            "_model_module": "@jupyter-widgets/controls"
          }
        },
        "a7c9282179d04923acf2559532507a9a": {
          "model_module": "@jupyter-widgets/base",
          "model_name": "LayoutModel",
          "state": {
            "_view_name": "LayoutView",
            "grid_template_rows": null,
            "right": null,
            "justify_content": null,
            "_view_module": "@jupyter-widgets/base",
            "overflow": null,
            "_model_module_version": "1.2.0",
            "_view_count": null,
            "flex_flow": null,
            "width": null,
            "min_width": null,
            "border": null,
            "align_items": null,
            "bottom": null,
            "_model_module": "@jupyter-widgets/base",
            "top": null,
            "grid_column": null,
            "overflow_y": null,
            "overflow_x": null,
            "grid_auto_flow": null,
            "grid_area": null,
            "grid_template_columns": null,
            "flex": null,
            "_model_name": "LayoutModel",
            "justify_items": null,
            "grid_row": null,
            "max_height": null,
            "align_content": null,
            "visibility": null,
            "align_self": null,
            "height": null,
            "min_height": null,
            "padding": null,
            "grid_auto_rows": null,
            "grid_gap": null,
            "max_width": null,
            "order": null,
            "_view_module_version": "1.2.0",
            "grid_template_areas": null,
            "object_position": null,
            "object_fit": null,
            "grid_auto_columns": null,
            "margin": null,
            "display": null,
            "left": null
          }
        },
        "257e106d5e244835bb5c7838434914ef": {
          "model_module": "@jupyter-widgets/controls",
          "model_name": "ProgressStyleModel",
          "state": {
            "_view_name": "StyleView",
            "_model_name": "ProgressStyleModel",
            "description_width": "",
            "_view_module": "@jupyter-widgets/base",
            "_model_module_version": "1.5.0",
            "_view_count": null,
            "_view_module_version": "1.2.0",
            "bar_color": null,
            "_model_module": "@jupyter-widgets/controls"
          }
        },
        "8a8bb3ffdfcc4fd9b374c1fd113fb0a4": {
          "model_module": "@jupyter-widgets/base",
          "model_name": "LayoutModel",
          "state": {
            "_view_name": "LayoutView",
            "grid_template_rows": null,
            "right": null,
            "justify_content": null,
            "_view_module": "@jupyter-widgets/base",
            "overflow": null,
            "_model_module_version": "1.2.0",
            "_view_count": null,
            "flex_flow": null,
            "width": null,
            "min_width": null,
            "border": null,
            "align_items": null,
            "bottom": null,
            "_model_module": "@jupyter-widgets/base",
            "top": null,
            "grid_column": null,
            "overflow_y": null,
            "overflow_x": null,
            "grid_auto_flow": null,
            "grid_area": null,
            "grid_template_columns": null,
            "flex": null,
            "_model_name": "LayoutModel",
            "justify_items": null,
            "grid_row": null,
            "max_height": null,
            "align_content": null,
            "visibility": null,
            "align_self": null,
            "height": null,
            "min_height": null,
            "padding": null,
            "grid_auto_rows": null,
            "grid_gap": null,
            "max_width": null,
            "order": null,
            "_view_module_version": "1.2.0",
            "grid_template_areas": null,
            "object_position": null,
            "object_fit": null,
            "grid_auto_columns": null,
            "margin": null,
            "display": null,
            "left": null
          }
        },
        "835a471cd86e4676ad78c84b0ffbbae4": {
          "model_module": "@jupyter-widgets/controls",
          "model_name": "VBoxModel",
          "state": {
            "_view_name": "VBoxView",
            "_dom_classes": [],
            "_model_name": "VBoxModel",
            "_view_module": "@jupyter-widgets/controls",
            "_model_module_version": "1.5.0",
            "_view_count": null,
            "_view_module_version": "1.5.0",
            "box_style": "",
            "layout": "IPY_MODEL_81c7af4848864e97a608686b9a6d2ed8",
            "_model_module": "@jupyter-widgets/controls",
            "children": [
              "IPY_MODEL_0e2fa1074d0348c3b1a2687615d5da7f",
              "IPY_MODEL_4a62c0db45aa45b580bdd5a4155657af"
            ]
          }
        },
        "81c7af4848864e97a608686b9a6d2ed8": {
          "model_module": "@jupyter-widgets/base",
          "model_name": "LayoutModel",
          "state": {
            "_view_name": "LayoutView",
            "grid_template_rows": null,
            "right": null,
            "justify_content": null,
            "_view_module": "@jupyter-widgets/base",
            "overflow": null,
            "_model_module_version": "1.2.0",
            "_view_count": null,
            "flex_flow": null,
            "width": null,
            "min_width": null,
            "border": null,
            "align_items": null,
            "bottom": null,
            "_model_module": "@jupyter-widgets/base",
            "top": null,
            "grid_column": null,
            "overflow_y": null,
            "overflow_x": null,
            "grid_auto_flow": null,
            "grid_area": null,
            "grid_template_columns": null,
            "flex": null,
            "_model_name": "LayoutModel",
            "justify_items": null,
            "grid_row": null,
            "max_height": null,
            "align_content": null,
            "visibility": null,
            "align_self": null,
            "height": null,
            "min_height": null,
            "padding": null,
            "grid_auto_rows": null,
            "grid_gap": null,
            "max_width": null,
            "order": null,
            "_view_module_version": "1.2.0",
            "grid_template_areas": null,
            "object_position": null,
            "object_fit": null,
            "grid_auto_columns": null,
            "margin": null,
            "display": null,
            "left": null
          }
        },
        "0e2fa1074d0348c3b1a2687615d5da7f": {
          "model_module": "@jupyter-widgets/controls",
          "model_name": "HTMLModel",
          "state": {
            "_view_name": "HTMLView",
            "style": "IPY_MODEL_29b36ee37856476caf13a3946302c247",
            "_dom_classes": [],
            "description": "",
            "_model_name": "HTMLModel",
            "placeholder": "​",
            "_view_module": "@jupyter-widgets/controls",
            "_model_module_version": "1.5.0",
            "value": "Testing: 121",
            "_view_count": null,
            "_view_module_version": "1.5.0",
            "description_tooltip": null,
            "_model_module": "@jupyter-widgets/controls",
            "layout": "IPY_MODEL_22ad6c5ce59a4c0a821802bdb6730c9b"
          }
        },
        "4a62c0db45aa45b580bdd5a4155657af": {
          "model_module": "@jupyter-widgets/controls",
          "model_name": "IntProgressModel",
          "state": {
            "_view_name": "ProgressView",
            "style": "IPY_MODEL_7457e5198dd04dc481d8c803f03cc523",
            "_dom_classes": [],
            "description": "",
            "_model_name": "IntProgressModel",
            "bar_style": "success",
            "max": 121,
            "_view_module": "@jupyter-widgets/controls",
            "_model_module_version": "1.5.0",
            "value": 121,
            "_view_count": null,
            "_view_module_version": "1.5.0",
            "orientation": "horizontal",
            "min": 0,
            "description_tooltip": null,
            "_model_module": "@jupyter-widgets/controls",
            "layout": "IPY_MODEL_f57baf7ba4c84318b2862c21eda8c900"
          }
        },
        "29b36ee37856476caf13a3946302c247": {
          "model_module": "@jupyter-widgets/controls",
          "model_name": "DescriptionStyleModel",
          "state": {
            "_view_name": "StyleView",
            "_model_name": "DescriptionStyleModel",
            "description_width": "",
            "_view_module": "@jupyter-widgets/base",
            "_model_module_version": "1.5.0",
            "_view_count": null,
            "_view_module_version": "1.2.0",
            "_model_module": "@jupyter-widgets/controls"
          }
        },
        "22ad6c5ce59a4c0a821802bdb6730c9b": {
          "model_module": "@jupyter-widgets/base",
          "model_name": "LayoutModel",
          "state": {
            "_view_name": "LayoutView",
            "grid_template_rows": null,
            "right": null,
            "justify_content": null,
            "_view_module": "@jupyter-widgets/base",
            "overflow": null,
            "_model_module_version": "1.2.0",
            "_view_count": null,
            "flex_flow": null,
            "width": null,
            "min_width": null,
            "border": null,
            "align_items": null,
            "bottom": null,
            "_model_module": "@jupyter-widgets/base",
            "top": null,
            "grid_column": null,
            "overflow_y": null,
            "overflow_x": null,
            "grid_auto_flow": null,
            "grid_area": null,
            "grid_template_columns": null,
            "flex": null,
            "_model_name": "LayoutModel",
            "justify_items": null,
            "grid_row": null,
            "max_height": null,
            "align_content": null,
            "visibility": null,
            "align_self": null,
            "height": null,
            "min_height": null,
            "padding": null,
            "grid_auto_rows": null,
            "grid_gap": null,
            "max_width": null,
            "order": null,
            "_view_module_version": "1.2.0",
            "grid_template_areas": null,
            "object_position": null,
            "object_fit": null,
            "grid_auto_columns": null,
            "margin": null,
            "display": null,
            "left": null
          }
        },
        "7457e5198dd04dc481d8c803f03cc523": {
          "model_module": "@jupyter-widgets/controls",
          "model_name": "ProgressStyleModel",
          "state": {
            "_view_name": "StyleView",
            "_model_name": "ProgressStyleModel",
            "description_width": "",
            "_view_module": "@jupyter-widgets/base",
            "_model_module_version": "1.5.0",
            "_view_count": null,
            "_view_module_version": "1.2.0",
            "bar_color": null,
            "_model_module": "@jupyter-widgets/controls"
          }
        },
        "f57baf7ba4c84318b2862c21eda8c900": {
          "model_module": "@jupyter-widgets/base",
          "model_name": "LayoutModel",
          "state": {
            "_view_name": "LayoutView",
            "grid_template_rows": null,
            "right": null,
            "justify_content": null,
            "_view_module": "@jupyter-widgets/base",
            "overflow": null,
            "_model_module_version": "1.2.0",
            "_view_count": null,
            "flex_flow": null,
            "width": null,
            "min_width": null,
            "border": null,
            "align_items": null,
            "bottom": null,
            "_model_module": "@jupyter-widgets/base",
            "top": null,
            "grid_column": null,
            "overflow_y": null,
            "overflow_x": null,
            "grid_auto_flow": null,
            "grid_area": null,
            "grid_template_columns": null,
            "flex": null,
            "_model_name": "LayoutModel",
            "justify_items": null,
            "grid_row": null,
            "max_height": null,
            "align_content": null,
            "visibility": null,
            "align_self": null,
            "height": null,
            "min_height": null,
            "padding": null,
            "grid_auto_rows": null,
            "grid_gap": null,
            "max_width": null,
            "order": null,
            "_view_module_version": "1.2.0",
            "grid_template_areas": null,
            "object_position": null,
            "object_fit": null,
            "grid_auto_columns": null,
            "margin": null,
            "display": null,
            "left": null
          }
        }
      }
    }
  },
  "cells": [
    {
      "cell_type": "markdown",
      "metadata": {
        "id": "view-in-github",
        "colab_type": "text"
      },
      "source": [
        "<a href=\"https://colab.research.google.com/github/Ghifarahadian/concurrent-activity-recognition/blob/master/modeling.ipynb\" target=\"_parent\"><img src=\"https://colab.research.google.com/assets/colab-badge.svg\" alt=\"Open In Colab\"/></a>"
      ]
    },
    {
      "cell_type": "code",
      "metadata": {
        "id": "p72HxINZnbFc"
      },
      "source": [
        "IS_COLAB = True"
      ],
      "execution_count": 2,
      "outputs": []
    },
    {
      "cell_type": "code",
      "metadata": {
        "id": "PsTIJjcyZ80g",
        "outputId": "8a9599ed-1f2b-4357-b9a9-b475286a3884",
        "colab": {
          "base_uri": "https://localhost:8080/",
          "height": 68
        }
      },
      "source": [
        "import sys\n",
        "import os\n",
        "import gc\n",
        "import torch\n",
        "import pandas as pd\n",
        "import numpy as np\n",
        "import glob\n",
        "import math\n",
        "\n",
        "import matplotlib.pyplot as plt\n",
        "from torch.utils.data.dataset import random_split\n",
        "from torch.utils.data import Dataset, DataLoader\n",
        "\n",
        "import torch.nn as nn\n",
        "import torch.nn.functional as F\n",
        "import torch\n",
        "\n",
        "from sklearn import metrics\n",
        "\n",
        "# Log progress\n",
        "def log_progress(sequence, every=None, size=None, name='Items'):\n",
        "    from ipywidgets import IntProgress, HTML, VBox\n",
        "    from IPython.display import display\n",
        "\n",
        "    is_iterator = False\n",
        "    if size is None:\n",
        "        try:\n",
        "            size = len(sequence)\n",
        "        except TypeError:\n",
        "            is_iterator = True\n",
        "    if size is not None:\n",
        "        if every is None:\n",
        "            if size <= 200:\n",
        "                every = 1\n",
        "            else:\n",
        "                every = int(size / 200)     # every 0.5%\n",
        "    else:\n",
        "        assert every is not None, 'sequence is iterator, set every'\n",
        "\n",
        "    if is_iterator:\n",
        "        progress = IntProgress(min=0, max=1, value=1)\n",
        "        progress.bar_style = 'info'\n",
        "    else:\n",
        "        progress = IntProgress(min=0, max=size, value=0)\n",
        "    label = HTML()\n",
        "    box = VBox(children=[label, progress])\n",
        "    display(box)\n",
        "\n",
        "    index = 0\n",
        "    try:\n",
        "        for index, record in enumerate(sequence, 1):\n",
        "            if index == 1 or index % every == 0:\n",
        "                if is_iterator:\n",
        "                    label.value = '{name}: {index} / ?'.format(\n",
        "                        name=name,\n",
        "                        index=index\n",
        "                    )\n",
        "                else:\n",
        "                    progress.value = index\n",
        "                    label.value = u'{name}: {index} / {size}'.format(\n",
        "                        name=name,\n",
        "                        index=index,\n",
        "                        size=size\n",
        "                    )\n",
        "            yield record\n",
        "    except:\n",
        "        progress.bar_style = 'danger'\n",
        "        raise\n",
        "    else:\n",
        "        progress.bar_style = 'success'\n",
        "        progress.value = index\n",
        "        label.value = \"{name}: {index}\".format(\n",
        "            name=name,\n",
        "            index=str(index or '?')\n",
        "        )\n",
        "\n",
        "if IS_COLAB:\n",
        "    # using google colab\n",
        "    from google.colab import drive\n",
        "    drive.mount('/content/drive')\n",
        "    ROOT = os.path.join('/content', 'drive', 'My Drive',\n",
        "                        'concurrent-activity-recognition')\n",
        "    os.chdir(ROOT)\n",
        "else:\n",
        "    # using own pc\n",
        "    ROOT = os.path.join(os.getcwd(), 'concurrent-activity-recognition')\n",
        "    os.chdir(ROOT)\n",
        "\n",
        "print(ROOT)\n",
        "\n",
        "if torch.cuda.is_available():\n",
        "    device = torch.device(\"cuda:0\")  # you can continue going on here, like cuda:1 cuda:2....etc. \n",
        "    print(\"Running on the GPU\")\n",
        "else:\n",
        "    device = torch.device(\"cpu\")\n",
        "    print(\"Running on the CPU\")"
      ],
      "execution_count": 3,
      "outputs": [
        {
          "output_type": "stream",
          "text": [
            "Mounted at /content/drive\n",
            "/content/drive/My Drive/concurrent-activity-recognition\n",
            "Running on the GPU\n"
          ],
          "name": "stdout"
        }
      ]
    },
    {
      "cell_type": "code",
      "metadata": {
        "id": "v_oOhST5RNtK"
      },
      "source": [
        "# dataset constant\n",
        "FEATURE_LENGTH = 36\n",
        "LABEL_LENGTH = 3\n",
        "FILE_LENGTH = 30\n",
        "DATASET_DIR = \"dataset_parsed_all_features_label1\"\n",
        "LABEL_INDEX = 1\n",
        "LABEL_COUNT = 13\n",
        "\n",
        "class OpportunityDatasetParsed(Dataset):\n",
        "    def __init__(self, filenames):\n",
        "        self.filenames = filenames\n",
        "        \n",
        "    def __len__(self):\n",
        "        return len(self.filenames)\n",
        "\n",
        "    def __getitem__(self, index):\n",
        "        filename = self.filenames[index]\n",
        "        #print(filename)\n",
        "\n",
        "        df = pd.read_csv(filename, header=0)\n",
        "\n",
        "        # first FEATURE_LENGTH columns are for data\n",
        "        data = torch.FloatTensor(\n",
        "            df.iloc[:, :FEATURE_LENGTH].values.astype('float'))\n",
        "                \n",
        "        # last LABEL_LENGTH columns are for label\n",
        "        label = torch.FloatTensor(\n",
        "            df.iloc[FILE_LENGTH-1, FEATURE_LENGTH:(FEATURE_LENGTH+LABEL_LENGTH)].values.astype('float'))\n",
        "\n",
        "        return data, label"
      ],
      "execution_count": 24,
      "outputs": []
    },
    {
      "cell_type": "code",
      "metadata": {
        "id": "vaJxhUtfaLVR",
        "outputId": "3855d900-89b1-48b6-fada-fa726ff883d2",
        "colab": {
          "base_uri": "https://localhost:8080/",
          "height": 34
        }
      },
      "source": [
        "USE_MODEL = \"CNN_Custom\"\n",
        "\n",
        "# grid search\n",
        "if USE_MODEL == \"CNNLSTM\":\n",
        "    conv1_outchs = [20]\n",
        "    conv1_sizes = [3]\n",
        "    conv2_outchs = [40]\n",
        "    conv2_sizes = [3]\n",
        "    lstm1_hs = [20]\n",
        "    learning_rates = [0.001]\n",
        "\n",
        "    grids = [(conv1_outch, conv1_size, conv2_outch,\n",
        "            conv2_size, lstm1_h, learning_rate)\n",
        "            for conv1_outch in conv1_outchs\n",
        "            for conv1_size in conv1_sizes\n",
        "            for conv2_outch in conv2_outchs\n",
        "            for conv2_size in conv2_sizes\n",
        "            for lstm1_h in lstm1_hs\n",
        "            for learning_rate in learning_rates\n",
        "            ]\n",
        "\n",
        "if USE_MODEL == \"CNN_Custom\":\n",
        "    grids = [1]\n",
        "\n",
        "print(\"Total grid parameters: \" + str(len(grids)))"
      ],
      "execution_count": 25,
      "outputs": [
        {
          "output_type": "stream",
          "text": [
            "Total grid parameters: 1\n"
          ],
          "name": "stdout"
        }
      ]
    },
    {
      "cell_type": "code",
      "metadata": {
        "id": "DCiwj9_Poakn"
      },
      "source": [
        "# training hyperparameter\n",
        "num_epochs = 10\n",
        "batch_size = 1\n",
        "\n",
        "class CNN_LSTM(nn.Module):\n",
        "    def __init__(self, grid):\n",
        "        super(CNN_LSTM, self).__init__()\n",
        "        conv1_outch = grid[0]\n",
        "        conv1_size = grid[1]\n",
        "        conv1_outlen = FILE_LENGTH - (conv1_size - 1)\n",
        "        conv2_outch = grid[2]\n",
        "        conv2_size = grid[3]\n",
        "        conv2_outlen = conv1_outlen - (conv2_size - 1)\n",
        "        lstm1_h = grid[4]\n",
        "        self.lstm1_h = lstm1_h\n",
        "        lstm1_hlen = conv2_outlen\n",
        "        self.lstm1_hlen = lstm1_hlen\n",
        "\n",
        "        self.conv1 = nn.Conv1d(FEATURE_LENGTH, conv1_outch, conv1_size)\n",
        "        self.conv2 = nn.Conv1d(conv1_outch, conv2_outch, conv2_size)\n",
        "        self.lstm1 = nn.LSTM(conv2_outch, lstm1_h)\n",
        "        self.fc1 = nn.Linear(lstm1_h*lstm1_hlen, LABEL_LENGTH)\n",
        "\n",
        "    def forward(self, x, h):\n",
        "        batch_len = x.shape[0]\n",
        "        x.transpose_(1, 2)\n",
        "        x = F.relu(self.conv1(x), inplace=False)\n",
        "        x = F.relu(self.conv2(x), inplace=False)\n",
        "        x.transpose_(1, 2)\n",
        "        x, _ = self.lstm1(x, h)\n",
        "        x = x.reshape([batch_len, -1])\n",
        "        out = self.fc1(x)\n",
        "        return out\n",
        "\n",
        "    def init_hidden(self):\n",
        "        weight = next(self.parameters()).data\n",
        "        hidden = (weight.new(1, self.lstm1_hlen,\n",
        "                             self.lstm1_h).zero_().to(device),\n",
        "                  weight.new(1, self.lstm1_hlen,\n",
        "                             self.lstm1_h).zero_().to(device))\n",
        "        return hidden\n",
        "\n",
        "class CNN_Custom(nn.Module):\n",
        "    def __init__(self):\n",
        "        super(CNN_Custom, self).__init__()\n",
        "        self.conv1 = nn.Conv2d(1, 50, (1, 5))\n",
        "        self.pool1 = nn.MaxPool2d((1, 2))\n",
        "        self.conv2 = nn.Conv2d(50, 40, (1, 5))\n",
        "        self.pool2 = nn.MaxPool2d((1, 3))\n",
        "        self.conv3 = nn.Conv2d(40, 20, (1, 3))\n",
        "        self.fc1 = nn.Linear(720, LABEL_COUNT)\n",
        "\n",
        "        self.conv4 = nn.Conv1d(20, 20, 36, groups=20)\n",
        "        self.fc2 = nn.Linear(20, LABEL_COUNT)\n",
        "\n",
        "    def forward(self, x):\n",
        "        batch_len = x.shape[0]\n",
        "        x = x.reshape(x.shape[0], 1, x.shape[1], x.shape[2])\n",
        "        x.transpose_(2, 3)\n",
        "        x = F.relu(self.conv1(x))\n",
        "        x = self.pool1(x)\n",
        "        x = F.relu(self.conv2(x))\n",
        "        x = self.pool2(x)\n",
        "        x = F.relu(self.conv3(x))\n",
        "        #print(x.shape)\n",
        "\n",
        "        # # simple concatenation\n",
        "        # x = x.reshape([batch_len, -1])\n",
        "        # x = self.fc1(x)\n",
        "\n",
        "        # depth-wise convolution for parameter concatenation\n",
        "        x = x.reshape([batch_len, 20, 36])\n",
        "        x = F.relu(self.conv4(x))\n",
        "        x = x.reshape([batch_len, -1])\n",
        "        x = self.fc2(x)\n",
        "        return x\n",
        "\n",
        "def make_train_step(model, loss_fn, optimizer):\n",
        "    def train_step(data, labels):\n",
        "        model.train()\n",
        "        optimizer.zero_grad()\n",
        "\n",
        "        data, labels = data.to(device), labels.to(device)\n",
        "\n",
        "        data = torch.reshape(data, (len(labels), -1, FEATURE_LENGTH))\n",
        "\n",
        "        label1 = torch.reshape(labels[:, LABEL_INDEX:LABEL_INDEX+1].long(), (-1,))\n",
        "        \n",
        "        output1 = model(data)\n",
        "\n",
        "        loss = loss_function(output1, label1)\n",
        "        loss.backward()\n",
        "        optimizer.step()\n",
        "        return loss.item()\n",
        "\n",
        "    return train_step"
      ],
      "execution_count": 26,
      "outputs": []
    },
    {
      "cell_type": "code",
      "metadata": {
        "id": "_A7WrSAHwFt0",
        "outputId": "29803c55-fe32-4ce8-9155-9b40a860ba26",
        "colab": {
          "base_uri": "https://localhost:8080/",
          "height": 81,
          "referenced_widgets": [
            "cde003dfdc174f90b25b640d57e68a9f",
            "3f7db14137c04917b55e056d2f8f4ba3",
            "c290634208714f018d5229fb81457945",
            "fe4b97cf31de4308986b39a78c780702",
            "c6e82c91a8f844faaca106f87f60dfbd",
            "a7c9282179d04923acf2559532507a9a",
            "257e106d5e244835bb5c7838434914ef",
            "8a8bb3ffdfcc4fd9b374c1fd113fb0a4"
          ]
        }
      },
      "source": [
        "# Training and validation, by using grid search\n",
        "torch.manual_seed(69)\n",
        "models = []\n",
        "fig, axs = plt.subplots(1, figsize=(18, 4*1))\n",
        "i = 0\n",
        "for grid in grids:\n",
        "    if USE_MODEL == \"CNNLSTM\":\n",
        "        model = CNN_LSTM(grid).to(device)\n",
        "    elif USE_MODEL == \"CNN_Custom\":\n",
        "        model = CNN_Custom().to(device)\n",
        "    loss_function = nn.CrossEntropyLoss()\n",
        "    optimizer = torch.optim.SGD(model.parameters(), lr=0.01)\n",
        "    train_step = make_train_step(model, loss_function, optimizer)\n",
        "\n",
        "    data_train_files = glob.glob(DATASET_DIR + \"/train/*.csv\")\n",
        "    train_losses = []\n",
        "    val_losses = []\n",
        "\n",
        "    data_train = OpportunityDatasetParsed(data_train_files)\n",
        "    train_dataset, val_dataset = random_split(data_train,\n",
        "            [math.ceil(0.8*len(data_train)), math.floor(0.2*len(data_train))])\n",
        "\n",
        "    for epoch in log_progress(range(num_epochs), name=\"Epoch\"):\n",
        "        dataloader_train = DataLoader(train_dataset, batch_size=batch_size,\n",
        "                        shuffle=True)\n",
        "        \n",
        "        train_losses_temp = []\n",
        "        for data, labels in dataloader_train:\n",
        "            loss = train_step(data, labels)\n",
        "            train_losses_temp.append(loss)\n",
        "\n",
        "        train_losses.append(np.mean(train_losses_temp))\n",
        "\n",
        "        with torch.no_grad():\n",
        "            dataloader_val = DataLoader(val_dataset, batch_size=batch_size,\n",
        "                            shuffle=False)\n",
        "            \n",
        "            val_losses_temp = []\n",
        "            for data, labels in dataloader_val:\n",
        "                model.eval()\n",
        "                data, labels = data.to(device), labels.to(device)\n",
        "\n",
        "                label1 = torch.reshape(labels[:, LABEL_INDEX:LABEL_INDEX+1].long(), (-1,))\n",
        "\n",
        "                output1 = model(data)\n",
        "\n",
        "                val_loss = loss_function(output1, label1)\n",
        "                val_losses_temp.append(val_loss.item())\n",
        "            \n",
        "            val_losses.append(np.mean(val_losses_temp))\n",
        "\n",
        "    models.append(model)\n",
        "\n",
        "    try:\n",
        "        axs[i].plot(range(0, num_epochs), train_losses, label=\"train_loss\")\n",
        "        axs[i].plot(range(0, num_epochs), val_losses, label=\"val_loss\")\n",
        "        axs[i].set_title(grid)\n",
        "    except:\n",
        "        axs.plot(range(0, num_epochs), train_losses, label=\"train_loss\")\n",
        "        axs.plot(range(0, num_epochs), val_losses, label=\"val_loss\")\n",
        "        axs.set_title(grid)\n",
        "    i += 1\n",
        "\n",
        "plt.legend()"
      ],
      "execution_count": null,
      "outputs": [
        {
          "output_type": "display_data",
          "data": {
            "application/vnd.jupyter.widget-view+json": {
              "model_id": "cde003dfdc174f90b25b640d57e68a9f",
              "version_minor": 0,
              "version_major": 2
            },
            "text/plain": [
              "VBox(children=(HTML(value=''), IntProgress(value=0, max=10)))"
            ]
          },
          "metadata": {
            "tags": []
          }
        }
      ]
    },
    {
      "cell_type": "code",
      "metadata": {
        "id": "vDrbO1atgtc5",
        "outputId": "81d831ae-f2fa-4005-a7af-a01ee6cb15cf",
        "colab": {
          "base_uri": "https://localhost:8080/",
          "height": 187
        }
      },
      "source": [
        "val_losses"
      ],
      "execution_count": 21,
      "outputs": [
        {
          "output_type": "execute_result",
          "data": {
            "text/plain": [
              "[0.27872028185443565,\n",
              " 0.24944063349149864,\n",
              " 0.24322800483667997,\n",
              " 0.27111401588999695,\n",
              " 0.24959394446042205,\n",
              " 0.23819406641540344,\n",
              " 0.22862823447528394,\n",
              " 0.28617353815861796,\n",
              " 0.2790395971670104,\n",
              " 0.26653701140121827]"
            ]
          },
          "metadata": {
            "tags": []
          },
          "execution_count": 21
        }
      ]
    },
    {
      "cell_type": "code",
      "metadata": {
        "id": "W5c-2WTkBw8t",
        "outputId": "3a2dadcc-9712-489e-c5f2-98a701b71c7a",
        "colab": {
          "base_uri": "https://localhost:8080/",
          "height": 166,
          "referenced_widgets": [
            "835a471cd86e4676ad78c84b0ffbbae4",
            "81c7af4848864e97a608686b9a6d2ed8",
            "0e2fa1074d0348c3b1a2687615d5da7f",
            "4a62c0db45aa45b580bdd5a4155657af",
            "29b36ee37856476caf13a3946302c247",
            "22ad6c5ce59a4c0a821802bdb6730c9b",
            "7457e5198dd04dc481d8c803f03cc523",
            "f57baf7ba4c84318b2862c21eda8c900"
          ]
        }
      },
      "source": [
        "data_test_files = glob.glob(DATASET_DIR + \"/test/*.csv\")\n",
        "data_test = OpportunityDatasetParsed(data_test_files)\n",
        "\n",
        "i = 0\n",
        "for model in models:\n",
        "    with torch.no_grad():\n",
        "        #h = model.init_hidden()\n",
        "        dataloader_test = DataLoader(data_test, batch_size=batch_size,\n",
        "                        shuffle=False)\n",
        "        \n",
        "        label1_all = []\n",
        "        predicted1_all = []\n",
        "\n",
        "        for data, labels in log_progress(dataloader_test, name=\"Testing\"):\n",
        "            model.eval()\n",
        "            data, labels = data.to(device), labels.to(device)\n",
        "\n",
        "            label1 = torch.reshape(labels[:, LABEL_INDEX:LABEL_INDEX+1].long(), (-1,))\n",
        "            label1_all.extend(label1.tolist())\n",
        "\n",
        "            output1 = model(data)\n",
        "\n",
        "            _, predicted1 = torch.max(output1, 1)\n",
        "\n",
        "            predicted1_all.extend(predicted1.tolist())\n",
        "        \n",
        "        print(\"Grid: {}\".format(grids[i]))\n",
        "        i += 1\n",
        "        print(\"Accuracy: {}\".format(metrics.accuracy_score(label1_all, predicted1_all)))\n",
        "        print(\"F1 (micro): {}\".format(metrics.f1_score(label1_all, predicted1_all, average='micro')))\n",
        "        print(\"F1 (macro): {}\".format(metrics.f1_score(label1_all, predicted1_all, average='macro')))\n",
        "        print(\"F1 (weighted): {}\".format(metrics.f1_score(label1_all, predicted1_all, average='weighted')))\n",
        "\n"
      ],
      "execution_count": 22,
      "outputs": [
        {
          "output_type": "display_data",
          "data": {
            "application/vnd.jupyter.widget-view+json": {
              "model_id": "835a471cd86e4676ad78c84b0ffbbae4",
              "version_minor": 0,
              "version_major": 2
            },
            "text/plain": [
              "VBox(children=(HTML(value=''), IntProgress(value=0, max=121)))"
            ]
          },
          "metadata": {
            "tags": []
          }
        },
        {
          "output_type": "stream",
          "text": [
            "Grid: 1\n",
            "Accuracy: 0.8347107438016529\n",
            "F1 (micro): 0.8347107438016529\n",
            "F1 (macro): 0.7478152309612983\n",
            "F1 (weighted): 0.8347107438016529\n"
          ],
          "name": "stdout"
        }
      ]
    },
    {
      "cell_type": "code",
      "metadata": {
        "id": "99AdHJYWWG12",
        "outputId": "b590153e-55bd-4145-d6b7-1545b69f750c",
        "colab": {
          "base_uri": "https://localhost:8080/",
          "height": 1000
        }
      },
      "source": [
        "predicted1_all"
      ],
      "execution_count": 23,
      "outputs": [
        {
          "output_type": "execute_result",
          "data": {
            "text/plain": [
              "[0,\n",
              " 1,\n",
              " 0,\n",
              " 1,\n",
              " 1,\n",
              " 0,\n",
              " 0,\n",
              " 0,\n",
              " 0,\n",
              " 0,\n",
              " 0,\n",
              " 2,\n",
              " 1,\n",
              " 0,\n",
              " 0,\n",
              " 0,\n",
              " 1,\n",
              " 1,\n",
              " 0,\n",
              " 0,\n",
              " 0,\n",
              " 0,\n",
              " 0,\n",
              " 0,\n",
              " 0,\n",
              " 1,\n",
              " 1,\n",
              " 1,\n",
              " 0,\n",
              " 0,\n",
              " 2,\n",
              " 0,\n",
              " 0,\n",
              " 0,\n",
              " 0,\n",
              " 0,\n",
              " 0,\n",
              " 0,\n",
              " 0,\n",
              " 0,\n",
              " 1,\n",
              " 1,\n",
              " 0,\n",
              " 0,\n",
              " 0,\n",
              " 0,\n",
              " 0,\n",
              " 0,\n",
              " 0,\n",
              " 0,\n",
              " 0,\n",
              " 0,\n",
              " 0,\n",
              " 0,\n",
              " 1,\n",
              " 0,\n",
              " 0,\n",
              " 2,\n",
              " 2,\n",
              " 2,\n",
              " 2,\n",
              " 2,\n",
              " 2,\n",
              " 1,\n",
              " 1,\n",
              " 1,\n",
              " 1,\n",
              " 1,\n",
              " 1,\n",
              " 1,\n",
              " 0,\n",
              " 0,\n",
              " 0,\n",
              " 0,\n",
              " 0,\n",
              " 0,\n",
              " 1,\n",
              " 0,\n",
              " 1,\n",
              " 0,\n",
              " 0,\n",
              " 0,\n",
              " 0,\n",
              " 0,\n",
              " 0,\n",
              " 0,\n",
              " 1,\n",
              " 0,\n",
              " 0,\n",
              " 0,\n",
              " 0,\n",
              " 0,\n",
              " 0,\n",
              " 0,\n",
              " 0,\n",
              " 0,\n",
              " 0,\n",
              " 0,\n",
              " 0,\n",
              " 0,\n",
              " 0,\n",
              " 1,\n",
              " 0,\n",
              " 0,\n",
              " 0,\n",
              " 0,\n",
              " 0,\n",
              " 0,\n",
              " 1,\n",
              " 0,\n",
              " 0,\n",
              " 0,\n",
              " 0,\n",
              " 0,\n",
              " 0,\n",
              " 0,\n",
              " 0,\n",
              " 0,\n",
              " 0,\n",
              " 0,\n",
              " 0]"
            ]
          },
          "metadata": {
            "tags": []
          },
          "execution_count": 23
        }
      ]
    },
    {
      "cell_type": "code",
      "metadata": {
        "id": "IYcREY2Q1HCU",
        "outputId": "50e6b6dd-9315-481e-b8fe-041cf80cd163",
        "colab": {
          "base_uri": "https://localhost:8080/",
          "height": 303
        }
      },
      "source": [
        "axs.plot(range(0, num_epochs), train_losses, label=\"train_loss\")\n",
        "axs.plot(range(0, num_epochs), val_losses, label=\"val_loss\")\n",
        "\n",
        "plt.legend()"
      ],
      "execution_count": null,
      "outputs": [
        {
          "output_type": "stream",
          "text": [
            "No handles with labels found to put in legend.\n"
          ],
          "name": "stderr"
        },
        {
          "output_type": "execute_result",
          "data": {
            "text/plain": [
              "<matplotlib.legend.Legend at 0x7fd78b49ce48>"
            ]
          },
          "metadata": {
            "tags": []
          },
          "execution_count": 31
        },
        {
          "output_type": "display_data",
          "data": {
            "image/png": "[encoded data removed]",
            "text/plain": [
              "<Figure size 432x288 with 1 Axes>"
            ]
          },
          "metadata": {
            "tags": [],
            "needs_background": "light"
          }
        }
      ]
    },
    {
      "cell_type": "code",
      "metadata": {
        "id": "4s9XcjFoFNpz"
      },
      "source": [
        "test = torch.FloatTensor([[1, 2], [1, 2], [1, 2], [1, 2]])"
      ],
      "execution_count": null,
      "outputs": []
    },
    {
      "cell_type": "code",
      "metadata": {
        "id": "2EQn14WzFd4J",
        "outputId": "982dbcee-0e6a-453b-cdd8-87887f667a96",
        "colab": {
          "base_uri": "https://localhost:8080/",
          "height": 51
        }
      },
      "source": [
        "test.transpose(0, 1)"
      ],
      "execution_count": null,
      "outputs": [
        {
          "output_type": "execute_result",
          "data": {
            "text/plain": [
              "tensor([[1., 1., 1., 1.],\n",
              "        [2., 2., 2., 2.]])"
            ]
          },
          "metadata": {
            "tags": []
          },
          "execution_count": 59
        }
      ]
    },
    {
      "cell_type": "code",
      "metadata": {
        "id": "2PwjMDEhFpQB",
        "outputId": "9929a1d5-2d2c-4c8f-c03a-7b96dc36be51",
        "colab": {
          "base_uri": "https://localhost:8080/",
          "height": 68
        }
      },
      "source": [
        "torch.randn(3, 5, requires_grad=True)"
      ],
      "execution_count": null,
      "outputs": [
        {
          "output_type": "execute_result",
          "data": {
            "text/plain": [
              "tensor([[ 1.4448,  1.1153, -0.3726,  1.3726, -0.1775],\n",
              "        [ 0.3801,  0.0387, -1.7176,  0.6296,  1.6406],\n",
              "        [ 0.5300, -0.4268,  0.1901, -0.6905, -0.8405]], requires_grad=True)"
            ]
          },
          "metadata": {
            "tags": []
          },
          "execution_count": 37
        }
      ]
    },
    {
      "cell_type": "code",
      "metadata": {
        "id": "e0nIQPMNXmYX",
        "outputId": "3916b5ab-0b75-4cd9-8316-34f1b0731ba4",
        "colab": {
          "base_uri": "https://localhost:8080/",
          "height": 34
        }
      },
      "source": [
        "torch.empty(3, dtype=torch.long).random_(5)"
      ],
      "execution_count": null,
      "outputs": [
        {
          "output_type": "execute_result",
          "data": {
            "text/plain": [
              "tensor([0, 2, 1])"
            ]
          },
          "metadata": {
            "tags": []
          },
          "execution_count": 38
        }
      ]
    }
  ]
}