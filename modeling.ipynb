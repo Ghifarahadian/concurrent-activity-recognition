{
  "nbformat": 4,
  "nbformat_minor": 0,
  "metadata": {
    "kernelspec": {
      "display_name": "Environment (conda_pytorch_p36)",
      "language": "python",
      "name": "conda_pytorch_p36"
    },
    "language_info": {
      "codemirror_mode": {
        "name": "ipython",
        "version": 3
      },
      "file_extension": ".py",
      "mimetype": "text/x-python",
      "name": "python",
      "nbconvert_exporter": "python",
      "pygments_lexer": "ipython3",
      "version": "3.6.10"
    },
    "colab": {
      "name": "modeling.ipynb",
      "provenance": []
    },
    "widgets": {
      "application/vnd.jupyter.widget-state+json": {
        "5222d4fd15ac43b4ac05d918f41e875e": {
          "model_module": "@jupyter-widgets/controls",
          "model_name": "VBoxModel",
          "state": {
            "_view_name": "VBoxView",
            "_dom_classes": [],
            "_model_name": "VBoxModel",
            "_view_module": "@jupyter-widgets/controls",
            "_model_module_version": "1.5.0",
            "_view_count": null,
            "_view_module_version": "1.5.0",
            "box_style": "",
            "layout": "IPY_MODEL_7d924a984bed499b994db44886f58eb7",
            "_model_module": "@jupyter-widgets/controls",
            "children": [
              "IPY_MODEL_bbecbb356d0042e89960592e9260dc8f",
              "IPY_MODEL_06474bbad255453c9c6e870f8ff833c3"
            ]
          }
        },
        "7d924a984bed499b994db44886f58eb7": {
          "model_module": "@jupyter-widgets/base",
          "model_name": "LayoutModel",
          "state": {
            "_view_name": "LayoutView",
            "grid_template_rows": null,
            "right": null,
            "justify_content": null,
            "_view_module": "@jupyter-widgets/base",
            "overflow": null,
            "_model_module_version": "1.2.0",
            "_view_count": null,
            "flex_flow": null,
            "width": null,
            "min_width": null,
            "border": null,
            "align_items": null,
            "bottom": null,
            "_model_module": "@jupyter-widgets/base",
            "top": null,
            "grid_column": null,
            "overflow_y": null,
            "overflow_x": null,
            "grid_auto_flow": null,
            "grid_area": null,
            "grid_template_columns": null,
            "flex": null,
            "_model_name": "LayoutModel",
            "justify_items": null,
            "grid_row": null,
            "max_height": null,
            "align_content": null,
            "visibility": null,
            "align_self": null,
            "height": null,
            "min_height": null,
            "padding": null,
            "grid_auto_rows": null,
            "grid_gap": null,
            "max_width": null,
            "order": null,
            "_view_module_version": "1.2.0",
            "grid_template_areas": null,
            "object_position": null,
            "object_fit": null,
            "grid_auto_columns": null,
            "margin": null,
            "display": null,
            "left": null
          }
        },
        "bbecbb356d0042e89960592e9260dc8f": {
          "model_module": "@jupyter-widgets/controls",
          "model_name": "HTMLModel",
          "state": {
            "_view_name": "HTMLView",
            "style": "IPY_MODEL_48df584762b54dc6a4cbe7c3acb6a0f1",
            "_dom_classes": [],
            "description": "",
            "_model_name": "HTMLModel",
            "placeholder": "​",
            "_view_module": "@jupyter-widgets/controls",
            "_model_module_version": "1.5.0",
            "value": "Epoch: 20",
            "_view_count": null,
            "_view_module_version": "1.5.0",
            "description_tooltip": null,
            "_model_module": "@jupyter-widgets/controls",
            "layout": "IPY_MODEL_47c3e347c142459780d1b175201aff0a"
          }
        },
        "06474bbad255453c9c6e870f8ff833c3": {
          "model_module": "@jupyter-widgets/controls",
          "model_name": "IntProgressModel",
          "state": {
            "_view_name": "ProgressView",
            "style": "IPY_MODEL_5d826b332fbe4b378c31933ee2276604",
            "_dom_classes": [],
            "description": "",
            "_model_name": "IntProgressModel",
            "bar_style": "success",
            "max": 20,
            "_view_module": "@jupyter-widgets/controls",
            "_model_module_version": "1.5.0",
            "value": 20,
            "_view_count": null,
            "_view_module_version": "1.5.0",
            "orientation": "horizontal",
            "min": 0,
            "description_tooltip": null,
            "_model_module": "@jupyter-widgets/controls",
            "layout": "IPY_MODEL_20ed057622784c4cb34e983b9547da21"
          }
        },
        "48df584762b54dc6a4cbe7c3acb6a0f1": {
          "model_module": "@jupyter-widgets/controls",
          "model_name": "DescriptionStyleModel",
          "state": {
            "_view_name": "StyleView",
            "_model_name": "DescriptionStyleModel",
            "description_width": "",
            "_view_module": "@jupyter-widgets/base",
            "_model_module_version": "1.5.0",
            "_view_count": null,
            "_view_module_version": "1.2.0",
            "_model_module": "@jupyter-widgets/controls"
          }
        },
        "47c3e347c142459780d1b175201aff0a": {
          "model_module": "@jupyter-widgets/base",
          "model_name": "LayoutModel",
          "state": {
            "_view_name": "LayoutView",
            "grid_template_rows": null,
            "right": null,
            "justify_content": null,
            "_view_module": "@jupyter-widgets/base",
            "overflow": null,
            "_model_module_version": "1.2.0",
            "_view_count": null,
            "flex_flow": null,
            "width": null,
            "min_width": null,
            "border": null,
            "align_items": null,
            "bottom": null,
            "_model_module": "@jupyter-widgets/base",
            "top": null,
            "grid_column": null,
            "overflow_y": null,
            "overflow_x": null,
            "grid_auto_flow": null,
            "grid_area": null,
            "grid_template_columns": null,
            "flex": null,
            "_model_name": "LayoutModel",
            "justify_items": null,
            "grid_row": null,
            "max_height": null,
            "align_content": null,
            "visibility": null,
            "align_self": null,
            "height": null,
            "min_height": null,
            "padding": null,
            "grid_auto_rows": null,
            "grid_gap": null,
            "max_width": null,
            "order": null,
            "_view_module_version": "1.2.0",
            "grid_template_areas": null,
            "object_position": null,
            "object_fit": null,
            "grid_auto_columns": null,
            "margin": null,
            "display": null,
            "left": null
          }
        },
        "5d826b332fbe4b378c31933ee2276604": {
          "model_module": "@jupyter-widgets/controls",
          "model_name": "ProgressStyleModel",
          "state": {
            "_view_name": "StyleView",
            "_model_name": "ProgressStyleModel",
            "description_width": "",
            "_view_module": "@jupyter-widgets/base",
            "_model_module_version": "1.5.0",
            "_view_count": null,
            "_view_module_version": "1.2.0",
            "bar_color": null,
            "_model_module": "@jupyter-widgets/controls"
          }
        },
        "20ed057622784c4cb34e983b9547da21": {
          "model_module": "@jupyter-widgets/base",
          "model_name": "LayoutModel",
          "state": {
            "_view_name": "LayoutView",
            "grid_template_rows": null,
            "right": null,
            "justify_content": null,
            "_view_module": "@jupyter-widgets/base",
            "overflow": null,
            "_model_module_version": "1.2.0",
            "_view_count": null,
            "flex_flow": null,
            "width": null,
            "min_width": null,
            "border": null,
            "align_items": null,
            "bottom": null,
            "_model_module": "@jupyter-widgets/base",
            "top": null,
            "grid_column": null,
            "overflow_y": null,
            "overflow_x": null,
            "grid_auto_flow": null,
            "grid_area": null,
            "grid_template_columns": null,
            "flex": null,
            "_model_name": "LayoutModel",
            "justify_items": null,
            "grid_row": null,
            "max_height": null,
            "align_content": null,
            "visibility": null,
            "align_self": null,
            "height": null,
            "min_height": null,
            "padding": null,
            "grid_auto_rows": null,
            "grid_gap": null,
            "max_width": null,
            "order": null,
            "_view_module_version": "1.2.0",
            "grid_template_areas": null,
            "object_position": null,
            "object_fit": null,
            "grid_auto_columns": null,
            "margin": null,
            "display": null,
            "left": null
          }
        },
        "7e6c3ccf18444bb6881b79011814bcb8": {
          "model_module": "@jupyter-widgets/controls",
          "model_name": "VBoxModel",
          "state": {
            "_view_name": "VBoxView",
            "_dom_classes": [],
            "_model_name": "VBoxModel",
            "_view_module": "@jupyter-widgets/controls",
            "_model_module_version": "1.5.0",
            "_view_count": null,
            "_view_module_version": "1.5.0",
            "box_style": "",
            "layout": "IPY_MODEL_87442aba9ed9475e95da0643ac76bc0a",
            "_model_module": "@jupyter-widgets/controls",
            "children": [
              "IPY_MODEL_3dc6b4cdda224e85824b8c2001b8221f",
              "IPY_MODEL_b0b9913e13d842cbb707730b42a4749d"
            ]
          }
        },
        "87442aba9ed9475e95da0643ac76bc0a": {
          "model_module": "@jupyter-widgets/base",
          "model_name": "LayoutModel",
          "state": {
            "_view_name": "LayoutView",
            "grid_template_rows": null,
            "right": null,
            "justify_content": null,
            "_view_module": "@jupyter-widgets/base",
            "overflow": null,
            "_model_module_version": "1.2.0",
            "_view_count": null,
            "flex_flow": null,
            "width": null,
            "min_width": null,
            "border": null,
            "align_items": null,
            "bottom": null,
            "_model_module": "@jupyter-widgets/base",
            "top": null,
            "grid_column": null,
            "overflow_y": null,
            "overflow_x": null,
            "grid_auto_flow": null,
            "grid_area": null,
            "grid_template_columns": null,
            "flex": null,
            "_model_name": "LayoutModel",
            "justify_items": null,
            "grid_row": null,
            "max_height": null,
            "align_content": null,
            "visibility": null,
            "align_self": null,
            "height": null,
            "min_height": null,
            "padding": null,
            "grid_auto_rows": null,
            "grid_gap": null,
            "max_width": null,
            "order": null,
            "_view_module_version": "1.2.0",
            "grid_template_areas": null,
            "object_position": null,
            "object_fit": null,
            "grid_auto_columns": null,
            "margin": null,
            "display": null,
            "left": null
          }
        },
        "3dc6b4cdda224e85824b8c2001b8221f": {
          "model_module": "@jupyter-widgets/controls",
          "model_name": "HTMLModel",
          "state": {
            "_view_name": "HTMLView",
            "style": "IPY_MODEL_df4263b01b6644b2a5bc0945806b8999",
            "_dom_classes": [],
            "description": "",
            "_model_name": "HTMLModel",
            "placeholder": "​",
            "_view_module": "@jupyter-widgets/controls",
            "_model_module_version": "1.5.0",
            "value": "Testing: 16",
            "_view_count": null,
            "_view_module_version": "1.5.0",
            "description_tooltip": null,
            "_model_module": "@jupyter-widgets/controls",
            "layout": "IPY_MODEL_d44845a3ca0047949e2f59d28975c6fe"
          }
        },
        "b0b9913e13d842cbb707730b42a4749d": {
          "model_module": "@jupyter-widgets/controls",
          "model_name": "IntProgressModel",
          "state": {
            "_view_name": "ProgressView",
            "style": "IPY_MODEL_6e8621f6f30a48e68d9062c9708cd858",
            "_dom_classes": [],
            "description": "",
            "_model_name": "IntProgressModel",
            "bar_style": "success",
            "max": 16,
            "_view_module": "@jupyter-widgets/controls",
            "_model_module_version": "1.5.0",
            "value": 16,
            "_view_count": null,
            "_view_module_version": "1.5.0",
            "orientation": "horizontal",
            "min": 0,
            "description_tooltip": null,
            "_model_module": "@jupyter-widgets/controls",
            "layout": "IPY_MODEL_0d641266bae04eaba5d793073447facd"
          }
        },
        "df4263b01b6644b2a5bc0945806b8999": {
          "model_module": "@jupyter-widgets/controls",
          "model_name": "DescriptionStyleModel",
          "state": {
            "_view_name": "StyleView",
            "_model_name": "DescriptionStyleModel",
            "description_width": "",
            "_view_module": "@jupyter-widgets/base",
            "_model_module_version": "1.5.0",
            "_view_count": null,
            "_view_module_version": "1.2.0",
            "_model_module": "@jupyter-widgets/controls"
          }
        },
        "d44845a3ca0047949e2f59d28975c6fe": {
          "model_module": "@jupyter-widgets/base",
          "model_name": "LayoutModel",
          "state": {
            "_view_name": "LayoutView",
            "grid_template_rows": null,
            "right": null,
            "justify_content": null,
            "_view_module": "@jupyter-widgets/base",
            "overflow": null,
            "_model_module_version": "1.2.0",
            "_view_count": null,
            "flex_flow": null,
            "width": null,
            "min_width": null,
            "border": null,
            "align_items": null,
            "bottom": null,
            "_model_module": "@jupyter-widgets/base",
            "top": null,
            "grid_column": null,
            "overflow_y": null,
            "overflow_x": null,
            "grid_auto_flow": null,
            "grid_area": null,
            "grid_template_columns": null,
            "flex": null,
            "_model_name": "LayoutModel",
            "justify_items": null,
            "grid_row": null,
            "max_height": null,
            "align_content": null,
            "visibility": null,
            "align_self": null,
            "height": null,
            "min_height": null,
            "padding": null,
            "grid_auto_rows": null,
            "grid_gap": null,
            "max_width": null,
            "order": null,
            "_view_module_version": "1.2.0",
            "grid_template_areas": null,
            "object_position": null,
            "object_fit": null,
            "grid_auto_columns": null,
            "margin": null,
            "display": null,
            "left": null
          }
        },
        "6e8621f6f30a48e68d9062c9708cd858": {
          "model_module": "@jupyter-widgets/controls",
          "model_name": "ProgressStyleModel",
          "state": {
            "_view_name": "StyleView",
            "_model_name": "ProgressStyleModel",
            "description_width": "",
            "_view_module": "@jupyter-widgets/base",
            "_model_module_version": "1.5.0",
            "_view_count": null,
            "_view_module_version": "1.2.0",
            "bar_color": null,
            "_model_module": "@jupyter-widgets/controls"
          }
        },
        "0d641266bae04eaba5d793073447facd": {
          "model_module": "@jupyter-widgets/base",
          "model_name": "LayoutModel",
          "state": {
            "_view_name": "LayoutView",
            "grid_template_rows": null,
            "right": null,
            "justify_content": null,
            "_view_module": "@jupyter-widgets/base",
            "overflow": null,
            "_model_module_version": "1.2.0",
            "_view_count": null,
            "flex_flow": null,
            "width": null,
            "min_width": null,
            "border": null,
            "align_items": null,
            "bottom": null,
            "_model_module": "@jupyter-widgets/base",
            "top": null,
            "grid_column": null,
            "overflow_y": null,
            "overflow_x": null,
            "grid_auto_flow": null,
            "grid_area": null,
            "grid_template_columns": null,
            "flex": null,
            "_model_name": "LayoutModel",
            "justify_items": null,
            "grid_row": null,
            "max_height": null,
            "align_content": null,
            "visibility": null,
            "align_self": null,
            "height": null,
            "min_height": null,
            "padding": null,
            "grid_auto_rows": null,
            "grid_gap": null,
            "max_width": null,
            "order": null,
            "_view_module_version": "1.2.0",
            "grid_template_areas": null,
            "object_position": null,
            "object_fit": null,
            "grid_auto_columns": null,
            "margin": null,
            "display": null,
            "left": null
          }
        }
      }
    }
  },
  "cells": [
    {
      "cell_type": "code",
      "metadata": {
        "id": "fmacuC0RzlFK"
      },
      "source": [
        "IS_COLAB = True"
      ],
      "execution_count": 1,
      "outputs": []
    },
    {
      "cell_type": "code",
      "metadata": {
        "id": "BU273b1dzlFU",
        "outputId": "dedc3672-1251-4d33-c8d8-2cf582404409",
        "colab": {
          "base_uri": "https://localhost:8080/",
          "height": 68
        }
      },
      "source": [
        "import sys\n",
        "import os\n",
        "import gc\n",
        "import torch\n",
        "import pandas as pd\n",
        "import numpy as np\n",
        "import glob\n",
        "import math\n",
        "\n",
        "import matplotlib.pyplot as plt\n",
        "from torch.utils.data.dataset import random_split\n",
        "from torch.utils.data import Dataset, DataLoader\n",
        "\n",
        "import torch.nn as nn\n",
        "import torch.nn.functional as F\n",
        "import torch\n",
        "\n",
        "from sklearn import metrics\n",
        "\n",
        "# Log progress\n",
        "def log_progress(sequence, every=None, size=None, name='Items'):\n",
        "    from ipywidgets import IntProgress, HTML, VBox\n",
        "    from IPython.display import display\n",
        "\n",
        "    is_iterator = False\n",
        "    if size is None:\n",
        "        try:\n",
        "            size = len(sequence)\n",
        "        except TypeError:\n",
        "            is_iterator = True\n",
        "    if size is not None:\n",
        "        if every is None:\n",
        "            if size <= 200:\n",
        "                every = 1\n",
        "            else:\n",
        "                every = int(size / 200)     # every 0.5%\n",
        "    else:\n",
        "        assert every is not None, 'sequence is iterator, set every'\n",
        "\n",
        "    if is_iterator:\n",
        "        progress = IntProgress(min=0, max=1, value=1)\n",
        "        progress.bar_style = 'info'\n",
        "    else:\n",
        "        progress = IntProgress(min=0, max=size, value=0)\n",
        "    label = HTML()\n",
        "    box = VBox(children=[label, progress])\n",
        "    display(box)\n",
        "\n",
        "    index = 0\n",
        "    try:\n",
        "        for index, record in enumerate(sequence, 1):\n",
        "            if index == 1 or index % every == 0:\n",
        "                if is_iterator:\n",
        "                    label.value = '{name}: {index} / ?'.format(\n",
        "                        name=name,\n",
        "                        index=index\n",
        "                    )\n",
        "                else:\n",
        "                    progress.value = index\n",
        "                    label.value = u'{name}: {index} / {size}'.format(\n",
        "                        name=name,\n",
        "                        index=index,\n",
        "                        size=size\n",
        "                    )\n",
        "            yield record\n",
        "    except:\n",
        "        progress.bar_style = 'danger'\n",
        "        raise\n",
        "    else:\n",
        "        progress.bar_style = 'success'\n",
        "        progress.value = index\n",
        "        label.value = \"{name}: {index}\".format(\n",
        "            name=name,\n",
        "            index=str(index or '?')\n",
        "        )\n",
        "\n",
        "if IS_COLAB:\n",
        "    # using google colab\n",
        "    from google.colab import drive\n",
        "    drive.mount('/content/drive')\n",
        "    ROOT = os.path.join('/content', 'drive', 'My Drive',\n",
        "                        'concurrent-activity-recognition')\n",
        "    os.chdir(ROOT)\n",
        "else:\n",
        "    # using AWS\n",
        "    ROOT = os.path.join('/home', 'ubuntu', 'concurrent-activity-recognition')\n",
        "    os.chdir(ROOT)\n",
        "\n",
        "print(ROOT)\n",
        "\n",
        "if torch.cuda.is_available():\n",
        "    device = torch.device(\"cuda:0\")  # you can continue going on here, like cuda:1 cuda:2....etc. \n",
        "    print(\"Running on the GPU\")\n",
        "else:\n",
        "    device = torch.device(\"cpu\")\n",
        "    print(\"Running on the CPU\")"
      ],
      "execution_count": 2,
      "outputs": [
        {
          "output_type": "stream",
          "text": [
            "Mounted at /content/drive\n",
            "/content/drive/My Drive/concurrent-activity-recognition\n",
            "Running on the CPU\n"
          ],
          "name": "stdout"
        }
      ]
    },
    {
      "cell_type": "code",
      "metadata": {
        "id": "C9bY0ChAzlFc"
      },
      "source": [
        "# dataset constant\n",
        "FEATURE_LENGTH = 36\n",
        "LABEL_LENGTH = 3\n",
        "FILE_LENGTH = 30\n",
        "DATASET_DIR = \"dataset_parsed_all_features\"\n",
        "LABEL_INDEX = 0\n",
        "LABEL_COUNT = 3\n",
        "\n",
        "class OpportunityDatasetParsed(Dataset):\n",
        "    def __init__(self, filenames):\n",
        "        self.filenames = filenames\n",
        "        \n",
        "    def __len__(self):\n",
        "        return len(self.filenames)\n",
        "\n",
        "    def __getitem__(self, index):\n",
        "        filename = self.filenames[index]\n",
        "        #print(filename)\n",
        "\n",
        "        df = pd.read_csv(filename, header=0)\n",
        "\n",
        "        # first FEATURE_LENGTH columns are for data\n",
        "        data = torch.FloatTensor(\n",
        "            df.iloc[:, :FEATURE_LENGTH].values.astype('float'))\n",
        "                \n",
        "        # last LABEL_LENGTH columns are for label\n",
        "        label = torch.FloatTensor(\n",
        "            df.iloc[FILE_LENGTH-1, FEATURE_LENGTH:(FEATURE_LENGTH+LABEL_LENGTH)].values.astype('float'))\n",
        "\n",
        "        return data, label"
      ],
      "execution_count": 7,
      "outputs": []
    },
    {
      "cell_type": "code",
      "metadata": {
        "id": "CTIkyQLgzlFh",
        "outputId": "f95c480e-4825-49f5-adac-ed6d4aa00453",
        "colab": {
          "base_uri": "https://localhost:8080/",
          "height": 34
        }
      },
      "source": [
        "USE_MODEL = \"CNN_Custom\"\n",
        "MODEL_NAME = \"CNN_Custom_label0\"\n",
        "\n",
        "# grid search for CNNLSTM\n",
        "if USE_MODEL == \"CNNLSTM\":\n",
        "    conv1_outchs = [20]\n",
        "    conv1_sizes = [3]\n",
        "    conv2_outchs = [40]\n",
        "    conv2_sizes = [3]\n",
        "    lstm1_hs = [20]\n",
        "    learning_rates = [0.001]\n",
        "\n",
        "    grids = [(conv1_outch, conv1_size, conv2_outch,\n",
        "            conv2_size, lstm1_h, learning_rate)\n",
        "            for conv1_outch in conv1_outchs\n",
        "            for conv1_size in conv1_sizes\n",
        "            for conv2_outch in conv2_outchs\n",
        "            for conv2_size in conv2_sizes\n",
        "            for lstm1_h in lstm1_hs\n",
        "            for learning_rate in learning_rates\n",
        "            ]\n",
        "\n",
        "if USE_MODEL == \"CNN_Custom\":\n",
        "    grids = [1]\n",
        "\n",
        "print(\"Total grid parameters: \" + str(len(grids)))"
      ],
      "execution_count": 8,
      "outputs": [
        {
          "output_type": "stream",
          "text": [
            "Total grid parameters: 1\n"
          ],
          "name": "stdout"
        }
      ]
    },
    {
      "cell_type": "code",
      "metadata": {
        "id": "WR5tIbAFzlFk"
      },
      "source": [
        "# training hyperparameter\n",
        "num_epochs = 20\n",
        "batch_size = 8\n",
        "\n",
        "class CNN_LSTM(nn.Module):\n",
        "    def __init__(self, grid):\n",
        "        super(CNN_LSTM, self).__init__()\n",
        "        conv1_outch = grid[0]\n",
        "        conv1_size = grid[1]\n",
        "        conv1_outlen = FILE_LENGTH - (conv1_size - 1)\n",
        "        conv2_outch = grid[2]\n",
        "        conv2_size = grid[3]\n",
        "        conv2_outlen = conv1_outlen - (conv2_size - 1)\n",
        "        lstm1_h = grid[4]\n",
        "        self.lstm1_h = lstm1_h\n",
        "        lstm1_hlen = conv2_outlen\n",
        "        self.lstm1_hlen = lstm1_hlen\n",
        "\n",
        "        self.conv1 = nn.Conv1d(FEATURE_LENGTH, conv1_outch, conv1_size)\n",
        "        self.conv2 = nn.Conv1d(conv1_outch, conv2_outch, conv2_size)\n",
        "        self.lstm1 = nn.LSTM(conv2_outch, lstm1_h)\n",
        "        self.fc1 = nn.Linear(lstm1_h*lstm1_hlen, LABEL_LENGTH)\n",
        "\n",
        "    def forward(self, x, h):\n",
        "        batch_len = x.shape[0]\n",
        "        x.transpose_(1, 2)\n",
        "        x = F.relu(self.conv1(x), inplace=False)\n",
        "        x = F.relu(self.conv2(x), inplace=False)\n",
        "        x.transpose_(1, 2)\n",
        "        x, _ = self.lstm1(x, h)\n",
        "        x = x.reshape([batch_len, -1])\n",
        "        out = self.fc1(x)\n",
        "        return out\n",
        "\n",
        "    def init_hidden(self):\n",
        "        weight = next(self.parameters()).data\n",
        "        hidden = (weight.new(1, self.lstm1_hlen,\n",
        "                             self.lstm1_h).zero_().to(device),\n",
        "                  weight.new(1, self.lstm1_hlen,\n",
        "                             self.lstm1_h).zero_().to(device))\n",
        "        return hidden\n",
        "\n",
        "class CNN_Custom(nn.Module):\n",
        "    def __init__(self):\n",
        "        super(CNN_Custom, self).__init__()\n",
        "        self.conv1 = nn.Conv2d(1, 50, (1, 5))\n",
        "        self.pool1 = nn.MaxPool2d((1, 2))\n",
        "        self.conv2 = nn.Conv2d(50, 40, (1, 5))\n",
        "        self.pool2 = nn.MaxPool2d((1, 3))\n",
        "        self.conv3 = nn.Conv2d(40, 20, (1, 3))\n",
        "        self.fc1 = nn.Linear(720, LABEL_COUNT)\n",
        "\n",
        "        self.conv4 = nn.Conv1d(20, 20, 36, groups=20)\n",
        "        self.fc2 = nn.Linear(20, LABEL_COUNT)\n",
        "\n",
        "    def forward(self, x):\n",
        "        batch_len = x.shape[0]\n",
        "        x = x.reshape(x.shape[0], 1, x.shape[1], x.shape[2])\n",
        "        x.transpose_(2, 3)\n",
        "        x = F.relu(self.conv1(x))\n",
        "        x = self.pool1(x)\n",
        "        x = F.relu(self.conv2(x))\n",
        "        x = self.pool2(x)\n",
        "        x = F.relu(self.conv3(x))\n",
        "        #print(x.shape)\n",
        "\n",
        "        # simple concatenation. It works better in the end\n",
        "        x = x.reshape([batch_len, -1])\n",
        "        x = self.fc1(x)\n",
        "\n",
        "#         # depth-wise convolution for parameter concatenation\n",
        "#         x = x.reshape([batch_len, 20, 36])\n",
        "#         x = F.relu(self.conv4(x))\n",
        "#         x = x.reshape([batch_len, -1])\n",
        "#         x = self.fc2(x)\n",
        "        return x\n",
        "\n",
        "def make_train_step(model, loss_fn, optimizer):\n",
        "    def train_step(data, labels):\n",
        "        model.train()\n",
        "        optimizer.zero_grad()\n",
        "\n",
        "        data, labels = data.to(device), labels.to(device)\n",
        "\n",
        "        data = torch.reshape(data, (len(labels), -1, FEATURE_LENGTH))\n",
        "\n",
        "        label1 = torch.reshape(labels[:, LABEL_INDEX:LABEL_INDEX+1].long(), (-1,))\n",
        "        \n",
        "        output1 = model(data)\n",
        "\n",
        "        loss = loss_function(output1, label1)\n",
        "        loss.backward()\n",
        "        optimizer.step()\n",
        "        return loss.item()\n",
        "\n",
        "    return train_step"
      ],
      "execution_count": 10,
      "outputs": []
    },
    {
      "cell_type": "code",
      "metadata": {
        "id": "k_XuKOH0zlFo",
        "outputId": "358af89f-6471-41a9-c4f1-f820e0f73b84",
        "colab": {
          "base_uri": "https://localhost:8080/",
          "height": 362,
          "referenced_widgets": [
            "5222d4fd15ac43b4ac05d918f41e875e",
            "7d924a984bed499b994db44886f58eb7",
            "bbecbb356d0042e89960592e9260dc8f",
            "06474bbad255453c9c6e870f8ff833c3",
            "48df584762b54dc6a4cbe7c3acb6a0f1",
            "47c3e347c142459780d1b175201aff0a",
            "5d826b332fbe4b378c31933ee2276604",
            "20ed057622784c4cb34e983b9547da21"
          ]
        }
      },
      "source": [
        "# Training and validation, by using grid search/configured parameters\n",
        "LEARNING_RATE = 0.002\n",
        "TRAIN_RATIO = 0.8\n",
        "\n",
        "torch.manual_seed(69)\n",
        "models = []\n",
        "fig, axs = plt.subplots(1, figsize=(18, 4*1))\n",
        "i = 0\n",
        "for grid in grids:\n",
        "    if USE_MODEL == \"CNNLSTM\":\n",
        "        model = CNN_LSTM(grid).to(device)\n",
        "    elif USE_MODEL == \"CNN_Custom\":\n",
        "        model = CNN_Custom().to(device)\n",
        "    loss_function = nn.CrossEntropyLoss()\n",
        "    optimizer = torch.optim.SGD(model.parameters(), lr=LEARNING_RATE)\n",
        "    train_step = make_train_step(model, loss_function, optimizer)\n",
        "\n",
        "    data_train_files = glob.glob(DATASET_DIR + \"/train/*.csv\")\n",
        "    train_losses = []\n",
        "    val_losses = []\n",
        "\n",
        "    data_train = OpportunityDatasetParsed(data_train_files)\n",
        "    train_dataset, val_dataset = random_split(data_train,\n",
        "            [math.ceil(TRAIN_RATIO*len(data_train)), math.floor((1 - TRAIN_RATIO)*len(data_train))])\n",
        "\n",
        "    for epoch in log_progress(range(num_epochs), name=\"Epoch\"):\n",
        "        dataloader_train = DataLoader(train_dataset, batch_size=batch_size,\n",
        "                        shuffle=True)\n",
        "        \n",
        "        train_losses_temp = []\n",
        "        for data, labels in dataloader_train:\n",
        "            loss = train_step(data, labels)\n",
        "            train_losses_temp.append(loss)\n",
        "\n",
        "        train_losses.append(np.mean(train_losses_temp))\n",
        "\n",
        "        with torch.no_grad():\n",
        "            dataloader_val = DataLoader(val_dataset, batch_size=batch_size,\n",
        "                            shuffle=False)\n",
        "            \n",
        "            val_losses_temp = []\n",
        "            for data, labels in dataloader_val:\n",
        "                model.eval()\n",
        "                data, labels = data.to(device), labels.to(device)\n",
        "\n",
        "                label1 = torch.reshape(labels[:, LABEL_INDEX:LABEL_INDEX+1].long(), (-1,))\n",
        "\n",
        "                output1 = model(data)\n",
        "\n",
        "                val_loss = loss_function(output1, label1)\n",
        "                val_losses_temp.append(val_loss.item())\n",
        "            \n",
        "            val_losses.append(np.mean(val_losses_temp))\n",
        "\n",
        "    models.append(model)\n",
        "\n",
        "    try:\n",
        "        axs[i].plot(range(0, num_epochs), train_losses, label=\"train_loss\")\n",
        "        axs[i].plot(range(0, num_epochs), val_losses, label=\"val_loss\")\n",
        "        axs[i].set_title(grid)\n",
        "    except:\n",
        "        axs.plot(range(0, num_epochs), train_losses, label=\"train_loss\")\n",
        "        axs.plot(range(0, num_epochs), val_losses, label=\"val_loss\")\n",
        "        axs.set_title(grid)\n",
        "    i += 1\n",
        "\n",
        "plt.legend()"
      ],
      "execution_count": 11,
      "outputs": [
        {
          "output_type": "display_data",
          "data": {
            "application/vnd.jupyter.widget-view+json": {
              "model_id": "5222d4fd15ac43b4ac05d918f41e875e",
              "version_minor": 0,
              "version_major": 2
            },
            "text/plain": [
              "VBox(children=(HTML(value=''), IntProgress(value=0, max=20)))"
            ]
          },
          "metadata": {
            "tags": []
          }
        },
        {
          "output_type": "execute_result",
          "data": {
            "text/plain": [
              "<matplotlib.legend.Legend at 0x7f291becf160>"
            ]
          },
          "metadata": {
            "tags": []
          },
          "execution_count": 11
        },
        {
          "output_type": "display_data",
          "data": {
            "image/png": "[encoded data removed]",
            "text/plain": [
              "<Figure size 1296x288 with 1 Axes>"
            ]
          },
          "metadata": {
            "tags": [],
            "needs_background": "light"
          }
        }
      ]
    },
    {
      "cell_type": "code",
      "metadata": {
        "id": "wB6SdAo2zlFu",
        "outputId": "810c3d4a-db92-4bc3-902e-6f630b26cfcf",
        "colab": {
          "base_uri": "https://localhost:8080/",
          "height": 166,
          "referenced_widgets": [
            "7e6c3ccf18444bb6881b79011814bcb8",
            "87442aba9ed9475e95da0643ac76bc0a",
            "3dc6b4cdda224e85824b8c2001b8221f",
            "b0b9913e13d842cbb707730b42a4749d",
            "df4263b01b6644b2a5bc0945806b8999",
            "d44845a3ca0047949e2f59d28975c6fe",
            "6e8621f6f30a48e68d9062c9708cd858",
            "0d641266bae04eaba5d793073447facd"
          ]
        }
      },
      "source": [
        "# test and save the model\n",
        "from datetime import datetime\n",
        "import pickle\n",
        "data_test_files = glob.glob(DATASET_DIR + \"/test/*.csv\")\n",
        "data_test = OpportunityDatasetParsed(data_test_files)\n",
        "\n",
        "i = 0\n",
        "for model in models:\n",
        "    with torch.no_grad():\n",
        "        #h = model.init_hidden()\n",
        "        dataloader_test = DataLoader(data_test, batch_size=batch_size,\n",
        "                        shuffle=False)\n",
        "        \n",
        "        label1_all = []\n",
        "        predicted1_all = []\n",
        "\n",
        "        for data, labels in log_progress(dataloader_test, name=\"Testing\"):\n",
        "            model.eval()\n",
        "            data, labels = data.to(device), labels.to(device)\n",
        "\n",
        "            label1 = torch.reshape(labels[:, LABEL_INDEX:LABEL_INDEX+1].long(), (-1,))\n",
        "            label1_all.extend(label1.tolist())\n",
        "\n",
        "            output1 = model(data)\n",
        "\n",
        "            _, predicted1 = torch.max(output1, 1)\n",
        "\n",
        "            predicted1_all.extend(predicted1.tolist())\n",
        "        \n",
        "        print(\"Grid: {}\".format(grids[i]))\n",
        "        print(\"Accuracy: {}\".format(metrics.accuracy_score(label1_all, predicted1_all)))\n",
        "        print(\"F1 (micro): {}\".format(metrics.f1_score(label1_all, predicted1_all, average='micro')))\n",
        "        print(\"F1 (macro): {}\".format(metrics.f1_score(label1_all, predicted1_all, average='macro')))\n",
        "        print(\"F1 (weighted): {}\".format(metrics.f1_score(label1_all, predicted1_all, average='weighted')))\n",
        "\n",
        "    with open(\"models/\" + MODEL_NAME + \"_\" + datetime.now().strftime(\"%d%m%Y%H%M%S\") + \".p\", 'wb') as file:\n",
        "        pickle.dump(model, file)\n",
        "    \n",
        "    i += 1"
      ],
      "execution_count": 12,
      "outputs": [
        {
          "output_type": "display_data",
          "data": {
            "application/vnd.jupyter.widget-view+json": {
              "model_id": "7e6c3ccf18444bb6881b79011814bcb8",
              "version_minor": 0,
              "version_major": 2
            },
            "text/plain": [
              "VBox(children=(HTML(value=''), IntProgress(value=0, max=16)))"
            ]
          },
          "metadata": {
            "tags": []
          }
        },
        {
          "output_type": "stream",
          "text": [
            "Grid: 1\n",
            "Accuracy: 0.8347107438016529\n",
            "F1 (micro): 0.8347107438016529\n",
            "F1 (macro): 0.7233796296296297\n",
            "F1 (weighted): 0.7997302571166207\n"
          ],
          "name": "stdout"
        }
      ]
    },
    {
      "cell_type": "code",
      "metadata": {
        "id": "oXo17i1HzlF0",
        "outputId": "16cd8cc3-2b73-463e-b5ce-a0f2f25b8154",
        "colab": {
          "referenced_widgets": [
            "6a7f96cef04145a6846b44859dd65e9c"
          ]
        }
      },
      "source": [
        "# load model and test it, just to be sure\n",
        "loaded_model = pickle.load(open(\"models/CNN_Custom_label0_diffdata_20102020182523.p\", 'rb'))\n",
        "\n",
        "data_test_files = glob.glob(\"dataset_parsed_all_features_label0_label1\" + \"/test/*.csv\")\n",
        "data_test = OpportunityDatasetParsed(data_test_files)\n",
        "\n",
        "with torch.no_grad():\n",
        "    dataloader_test = DataLoader(data_test, batch_size=batch_size,\n",
        "                    shuffle=False)\n",
        "\n",
        "    label1_all = []\n",
        "    predicted1_all = []\n",
        "\n",
        "    for data, labels in log_progress(dataloader_test, name=\"Testing\"):\n",
        "        loaded_model.eval()\n",
        "        data, labels = data.to(device), labels.to(device)\n",
        "\n",
        "        label1 = torch.reshape(labels[:, LABEL_INDEX:LABEL_INDEX+1].long(), (-1,))\n",
        "        label1_all.extend(label1.tolist())\n",
        "\n",
        "        output1 = loaded_model(data)\n",
        "\n",
        "        _, predicted1 = torch.max(output1, 1)\n",
        "\n",
        "        predicted1_all.extend(predicted1.tolist())\n",
        "\n",
        "    print(\"Accuracy: {}\".format(metrics.accuracy_score(label1_all, predicted1_all)))\n",
        "    print(\"F1 (micro): {}\".format(metrics.f1_score(label1_all, predicted1_all, average='micro')))\n",
        "    print(\"F1 (macro): {}\".format(metrics.f1_score(label1_all, predicted1_all, average='macro')))\n",
        "    print(\"F1 (weighted): {}\".format(metrics.f1_score(label1_all, predicted1_all, average='weighted')))"
      ],
      "execution_count": null,
      "outputs": [
        {
          "output_type": "display_data",
          "data": {
            "application/vnd.jupyter.widget-view+json": {
              "model_id": "6a7f96cef04145a6846b44859dd65e9c",
              "version_major": 2,
              "version_minor": 0
            },
            "text/plain": [
              "VBox(children=(HTML(value=''), IntProgress(value=0, max=33)))"
            ]
          },
          "metadata": {
            "tags": []
          }
        },
        {
          "output_type": "stream",
          "text": [
            "Accuracy: 0.8210116731517509\n",
            "F1 (micro): 0.8210116731517509\n",
            "F1 (macro): 0.7009569304732595\n",
            "F1 (weighted): 0.7790719350179718\n"
          ],
          "name": "stdout"
        }
      ]
    },
    {
      "cell_type": "code",
      "metadata": {
        "id": "_U8KrYP0zlF5"
      },
      "source": [
        "# combine two models for prediction of label0 and label1\n",
        "loaded_model_label0 = pickle.load(open(\"models/CNN_Custom_label0.p\", 'rb'))\n",
        "loaded_model_label1 = pickle.load(open(\"models/CNN_Custom_label1.p\", 'rb'))\n",
        "\n",
        "data_test_files = glob.glob(DATASET_DIR + \"/test/*.csv\")\n",
        "data_test = OpportunityDatasetParsed(data_test_files)\n",
        "\n",
        "with torch.no_grad():\n",
        "    dataloader_test = DataLoader(data_test, batch_size=batch_size,\n",
        "                    shuffle=False)\n",
        "\n",
        "    label0_all = []\n",
        "    label1_all = []\n",
        "    predicted0_all = []\n",
        "    predicted1_all = []\n",
        "\n",
        "    for data, labels in log_progress(dataloader_test, name=\"Testing\"):\n",
        "        loaded_model.eval()\n",
        "        data, labels = data.to(device), labels.to(device)\n",
        "\n",
        "        label0 = torch.reshape(labels[:, 0:1].long(), (-1,))\n",
        "        label0_all.extend(label0.tolist())\n",
        "        label1 = torch.reshape(labels[:, 1:2].long(), (-1,))\n",
        "        label1_all.extend(label1.tolist())\n",
        "\n",
        "        output0 = loaded_model_label0(data)\n",
        "        output1 = loaded_model_label1(data)\n",
        "\n",
        "        _, predicted0 = torch.max(output0, 1)\n",
        "        _, predicted1 = torch.max(output1, 1)\n",
        "\n",
        "        predicted0_all.extend(predicted0.tolist())\n",
        "        predicted1_all.extend(predicted1.tolist())\n",
        "\n",
        "    print(\"Label0:\")\n",
        "    print(\"Accuracy: {}\".format(metrics.accuracy_score(label0_all, predicted0_all)))\n",
        "    print(\"F1 (micro): {}\".format(metrics.f1_score(label0_all, predicted0_all, average='micro')))\n",
        "    print(\"F1 (macro): {}\".format(metrics.f1_score(label0_all, predicted0_all, average='macro')))\n",
        "    print(\"F1 (weighted): {}\".format(metrics.f1_score(label0_all, predicted0_all, average='weighted')))\n",
        "\n",
        "    print(\"Label1:\")\n",
        "    print(\"Accuracy: {}\".format(metrics.accuracy_score(label1_all, predicted1_all)))\n",
        "    print(\"F1 (micro): {}\".format(metrics.f1_score(label1_all, predicted1_all, average='micro')))\n",
        "    print(\"F1 (macro): {}\".format(metrics.f1_score(label1_all, predicted1_all, average='macro')))\n",
        "    print(\"F1 (weighted): {}\".format(metrics.f1_score(label1_all, predicted1_all, average='weighted')))"
      ],
      "execution_count": null,
      "outputs": []
    },
    {
      "cell_type": "code",
      "metadata": {
        "id": "1UP3PYR7zlF9"
      },
      "source": [
        "data_train_files = glob.glob(DATASET_DIR + \"/train/*.csv\")\n",
        "data_test_files = glob.glob(DATASET_DIR + \"/test/*.csv\")"
      ],
      "execution_count": null,
      "outputs": []
    },
    {
      "cell_type": "code",
      "metadata": {
        "id": "du2redHuzlGC"
      },
      "source": [
        "len(data_train_files)"
      ],
      "execution_count": null,
      "outputs": []
    },
    {
      "cell_type": "code",
      "metadata": {
        "id": "xxuPGy-LzlGG"
      },
      "source": [
        "len(data_test_files)"
      ],
      "execution_count": null,
      "outputs": []
    },
    {
      "cell_type": "code",
      "metadata": {
        "id": "DMcNjNcnzlGR"
      },
      "source": [
        ""
      ],
      "execution_count": null,
      "outputs": []
    }
  ]
}